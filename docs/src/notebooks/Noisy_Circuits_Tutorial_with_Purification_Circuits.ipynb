{
 "cells": [
  {
   "cell_type": "markdown",
   "metadata": {},
   "source": [
    "`Last edit on Mar 18 2024 with QuantumClifford 0.9.0 and Julia 1.10.2`"
   ]
  },
  {
   "cell_type": "code",
   "execution_count": 4,
   "metadata": {
    "scrolled": true
   },
   "outputs": [
    {
     "ename": "ArgumentError",
     "evalue": "ArgumentError: Package AbstractAlgebra not found in current path.\n- Run `import Pkg; Pkg.add(\"AbstractAlgebra\")` to install the AbstractAlgebra package.",
     "output_type": "error",
     "traceback": [
      "ArgumentError: Package AbstractAlgebra not found in current path.\n",
      "- Run `import Pkg; Pkg.add(\"AbstractAlgebra\")` to install the AbstractAlgebra package.\n",
      "\n",
      "Stacktrace:\n",
      "  [1] macro expansion\n",
      "    @ ./loading.jl:2296 [inlined]\n",
      "  [2] macro expansion\n",
      "    @ ./lock.jl:273 [inlined]\n",
      "  [3] __require(into::Module, mod::Symbol)\n",
      "    @ Base ./loading.jl:2271\n",
      "  [4] #invoke_in_world#3\n",
      "    @ ./essentials.jl:1089 [inlined]\n",
      "  [5] invoke_in_world\n",
      "    @ ./essentials.jl:1086 [inlined]\n",
      "  [6] require(into::Module, mod::Symbol)\n",
      "    @ Base ./loading.jl:2260\n",
      "  [7] eval\n",
      "    @ ./boot.jl:430 [inlined]\n",
      "  [8] include_string(mapexpr::typeof(REPL.softscope), mod::Module, code::String, filename::String)\n",
      "    @ Base ./loading.jl:2734\n",
      "  [9] #invokelatest#2\n",
      "    @ ./essentials.jl:1055 [inlined]\n",
      " [10] invokelatest\n",
      "    @ ./essentials.jl:1052 [inlined]\n",
      " [11] (::VSCodeServer.var\"#217#218\"{VSCodeServer.NotebookRunCellArguments, String})()\n",
      "    @ VSCodeServer ~/.vscode/extensions/julialang.language-julia-1.149.2/scripts/packages/VSCodeServer/src/serve_notebook.jl:24\n",
      " [12] withpath(f::VSCodeServer.var\"#217#218\"{VSCodeServer.NotebookRunCellArguments, String}, path::String)\n",
      "    @ VSCodeServer ~/.vscode/extensions/julialang.language-julia-1.149.2/scripts/packages/VSCodeServer/src/repl.jl:276\n",
      " [13] notebook_runcell_request(conn::VSCodeServer.JSONRPC.JSONRPCEndpoint{Base.PipeEndpoint, Base.PipeEndpoint, VSCodeServer.JSON.Serializations.StandardSerialization}, params::VSCodeServer.NotebookRunCellArguments, token::VSCodeServer.CancellationTokens.CancellationToken)\n",
      "    @ VSCodeServer ~/.vscode/extensions/julialang.language-julia-1.149.2/scripts/packages/VSCodeServer/src/serve_notebook.jl:13\n",
      " [14] dispatch_msg(x::VSCodeServer.JSONRPC.JSONRPCEndpoint{Base.PipeEndpoint, Base.PipeEndpoint, VSCodeServer.JSON.Serializations.StandardSerialization}, dispatcher::VSCodeServer.JSONRPC.MsgDispatcher, msg::VSCodeServer.JSONRPC.Request)\n",
      "    @ VSCodeServer.JSONRPC ~/.vscode/extensions/julialang.language-julia-1.149.2/scripts/packages/JSONRPC/src/typed.jl:68\n",
      " [15] serve_notebook(pipename::String, debugger_pipename::String, outputchannel_logger::Base.CoreLogging.SimpleLogger; error_handler::var\"#5#10\"{String})\n",
      "    @ VSCodeServer ~/.vscode/extensions/julialang.language-julia-1.149.2/scripts/packages/VSCodeServer/src/serve_notebook.jl:147\n",
      " [16] top-level scope\n",
      "    @ ~/.vscode/extensions/julialang.language-julia-1.149.2/scripts/notebook/notebook.jl:35"
     ]
    }
   ],
   "source": [
    "using QuantumClifford\n",
    "using AbstractAlgebra\n",
    "using LaTeXStrings\n",
    "using Quantikz: displaycircuit\n",
    "using Plots      # Makie is a good alternative plotting library"
   ]
  },
  {
   "cell_type": "markdown",
   "metadata": {},
   "source": [
    "# States of interest\n",
    "\n",
    "All of the states will be expressed in one of the many canonical forms available, so that comparisons can be performed easily."
   ]
  },
  {
   "cell_type": "markdown",
   "metadata": {},
   "source": [
    "A typical Bell pair"
   ]
  },
  {
   "cell_type": "code",
   "execution_count": 5,
   "metadata": {},
   "outputs": [
    {
     "data": {
      "text/plain": [
       "+ ZZ\n",
       "+ XX"
      ]
     },
     "metadata": {},
     "output_type": "display_data"
    }
   ],
   "source": [
    "good_bell_state = S\"XX\n",
    "                    ZZ\"\n",
    "canonicalize_rref!(good_bell_state)[1]"
   ]
  },
  {
   "cell_type": "markdown",
   "metadata": {},
   "source": [
    "A typical GHZ state"
   ]
  },
  {
   "cell_type": "code",
   "execution_count": 6,
   "metadata": {},
   "outputs": [
    {
     "data": {
      "text/plain": [
       "+ _ZZ\n",
       "+ Z_Z\n",
       "+ XXX"
      ]
     },
     "metadata": {},
     "output_type": "display_data"
    }
   ],
   "source": [
    "good_ghz3_state = S\"XXX\n",
    "                    ZZI\n",
    "                    IZZ\"\n",
    "canonicalize_rref!(good_ghz3_state)[1]"
   ]
  },
  {
   "cell_type": "markdown",
   "metadata": {},
   "source": [
    "The bi-colored graph state version of a GHZ state"
   ]
  },
  {
   "cell_type": "code",
   "execution_count": 7,
   "metadata": {},
   "outputs": [
    {
     "data": {
      "text/plain": [
       "+ _ZZ\n",
       "+ ZXX\n",
       "+ X_Z"
      ]
     },
     "metadata": {},
     "output_type": "display_data"
    }
   ],
   "source": [
    "good_ghz3_state = S\"ZXX\n",
    "                    XZI\n",
    "                    XIZ\"\n",
    "canonicalize_rref!(good_ghz3_state)[1]"
   ]
  },
  {
   "cell_type": "markdown",
   "metadata": {},
   "source": [
    "# Warmup example: Purifying a Bell pair\n",
    "\n",
    "We will first run a typical purification circuit on two perfect Bell pairs. Given that all gates and initial states are perfect, the circuit is redundant, but running this calculation is a good sanity check. After all, if the circuit is not preserving perfect Bell pairs, there is little chance it would be doing any purification either.\n",
    "\n",
    "There are three components to the circuit: the bilateral CPHASE (or CNOT) gates, the coincidence measurement performed by Alice and Bob to check for errors, and a \"verify\" step at the end of the simulation. Experimentally, Alice and Bob do not have access to this operation, but we add it in our calculation in order to verify whether the final state obtained by this procedure is indeed the state we want.\n",
    "\n",
    "In terms of library features, we use the `SparseGate` and `BellMeasurement` objects for the \"real\" part of the circuit and the `VerifyOp` for the verification step."
   ]
  },
  {
   "cell_type": "code",
   "execution_count": 8,
   "metadata": {},
   "outputs": [
    {
     "data": {
      "text/plain": [
       "4-element Vector{QuantumClifford.AbstractOperation}:\n",
       " sCPHASE(1,3)\n",
       " sCPHASE(2,4)\n",
       " BellMeasurement(Union{sMX, sMY, sMZ}[sMX(3, 0), sMX(4, 0)], false)\n",
       " VerifyOp(Stabilizer 2×2, [1, 2])"
      ]
     },
     "metadata": {},
     "output_type": "display_data"
    }
   ],
   "source": [
    "initial_state = MixedDestabilizer(good_bell_state⊗good_bell_state)\n",
    "circuit = [\n",
    "    sCPHASE(1,3),\n",
    "    sCPHASE(2,4),\n",
    "    BellMeasurement([sMX(3),sMX(4)]),\n",
    "    VerifyOp(good_bell_state, [1,2])\n",
    "]"
   ]
  },
  {
   "cell_type": "markdown",
   "metadata": {},
   "source": [
    "We can run a Monte Carlo simulation with `mctrajectories`, or a Perturbative Expansion calculation with `petrajectories`. Given that there is no noise source in this circuit, all Monte Carlo samples will give the same result."
   ]
  },
  {
   "cell_type": "code",
   "execution_count": 9,
   "metadata": {},
   "outputs": [
    {
     "data": {
      "text/plain": [
       "Dict{CircuitStatus, Float64} with 3 entries:\n",
       "  failure:CircuitStatus(3)       => 0.0\n",
       "  false_success:CircuitStatus(2) => 0.0\n",
       "  true_success:CircuitStatus(1)  => 1.0"
      ]
     },
     "metadata": {},
     "output_type": "display_data"
    }
   ],
   "source": [
    "petrajectories(initial_state, circuit)"
   ]
  },
  {
   "cell_type": "code",
   "execution_count": 10,
   "metadata": {},
   "outputs": [
    {
     "data": {
      "text/plain": [
       "Dict{CircuitStatus, Float64} with 4 entries:\n",
       "  failure:CircuitStatus(3)       => 0.0\n",
       "  continue:CircuitStatus(0)      => 0.0\n",
       "  false_success:CircuitStatus(2) => 0.0\n",
       "  true_success:CircuitStatus(1)  => 100.0"
      ]
     },
     "metadata": {},
     "output_type": "display_data"
    }
   ],
   "source": [
    "mctrajectories(initial_state, circuit, trajectories=100)"
   ]
  },
  {
   "cell_type": "markdown",
   "metadata": {},
   "source": [
    "The possible final statuses (`:undetected_failure`, `:detected_failure`, `:true_success`) come from the definitions of the various circuit operations. `SparseGate` always generates `:continue`, which tells the simulator to continue to the next operation. `BellMeasurement` can report `:detected_failure` or `:continue`, depending whether there was an anti-coincidence or a coincidence. Finally `VerifyOp` reports either `:true_success` if we indeed obtained the desired state, or a `:undetected_failure` if the obtained state is not the desired one even though the measurement step had reported `:continue`. Custom statuses can be implemented as well, as seen later on."
   ]
  },
  {
   "cell_type": "markdown",
   "metadata": {},
   "source": [
    "Later on we will also need to compare these results against no purification so we define this circuit for convenience:"
   ]
  },
  {
   "cell_type": "code",
   "execution_count": 11,
   "metadata": {},
   "outputs": [],
   "source": [
    "nopurification_circuit = [VerifyOp(good_bell_state, [1,2])];"
   ]
  },
  {
   "cell_type": "markdown",
   "metadata": {},
   "source": [
    "## Define a network noise parameter to be used for the rest of the notebook\n",
    "\n",
    "For a more interesting calculation, we will now introduce network noise with the `NoiseOpAll` operation, which causes depolarization of certain strength to all of the qubits."
   ]
  },
  {
   "cell_type": "code",
   "execution_count": 12,
   "metadata": {},
   "outputs": [],
   "source": [
    "netnoise_value = 0.10\n",
    "netnoise = UnbiasedUncorrelatedNoise(netnoise_value)\n",
    "netnoise_opall = NoiseOpAll(netnoise);"
   ]
  },
  {
   "cell_type": "code",
   "execution_count": 13,
   "metadata": {},
   "outputs": [
    {
     "data": {
      "text/plain": [
       "5-element Vector{QuantumClifford.AbstractOperation}:\n",
       " NoiseOpAll(UnbiasedUncorrelatedNoise{Float64}(0.1))\n",
       " sCPHASE(1,3)\n",
       " sCPHASE(2,4)\n",
       " BellMeasurement(Union{sMX, sMY, sMZ}[sMX(3, 0), sMX(4, 0)], false)\n",
       " VerifyOp(Stabilizer 2×2, [1, 2])"
      ]
     },
     "metadata": {},
     "output_type": "display_data"
    }
   ],
   "source": [
    "[netnoise_opall,circuit...] # The explosions denote depolarization noise"
   ]
  },
  {
   "cell_type": "code",
   "execution_count": 14,
   "metadata": {},
   "outputs": [
    {
     "data": {
      "text/plain": [
       "Dict{CircuitStatus, Float64} with 3 entries:\n",
       "  failure:CircuitStatus(3)       => 0.1944\n",
       "  false_success:CircuitStatus(2) => 0.0972\n",
       "  true_success:CircuitStatus(1)  => 0.6561"
      ]
     },
     "metadata": {},
     "output_type": "display_data"
    }
   ],
   "source": [
    "pe_netnoise = petrajectories(initial_state, [netnoise_opall,circuit...])"
   ]
  },
  {
   "cell_type": "code",
   "execution_count": 15,
   "metadata": {},
   "outputs": [
    {
     "data": {
      "text/plain": [
       "Dict{CircuitStatus, Float64} with 3 entries:\n",
       "  failure:CircuitStatus(3)       => 0.0\n",
       "  false_success:CircuitStatus(2) => 0.186667\n",
       "  true_success:CircuitStatus(1)  => 0.813333"
      ]
     },
     "metadata": {},
     "output_type": "display_data"
    }
   ],
   "source": [
    "pe_netnoise_nopurification = petrajectories(good_bell_state,\n",
    "                                            [netnoise_opall,nopurification_circuit...],max_order=2)"
   ]
  },
  {
   "cell_type": "code",
   "execution_count": 16,
   "metadata": {},
   "outputs": [
    {
     "ename": "UndefVarError",
     "evalue": "UndefVarError: `latexstring` not defined in `Main`\nSuggestion: check for spelling errors or missing imports.",
     "output_type": "error",
     "traceback": [
      "UndefVarError: `latexstring` not defined in `Main`\n",
      "Suggestion: check for spelling errors or missing imports.\n",
      "\n",
      "Stacktrace:\n",
      " [1] top-level scope\n",
      "   @ ~/Desktop/lab_work/QuantumClifford.jl/docs/src/notebooks/jl_notebook_cell_df34fa98e69747e1a8f8a730347b8e2f_X31sZmlsZQ==.jl:1"
     ]
    }
   ],
   "source": [
    "latexstring(\"\"\"\n",
    "    Therefore a network depolarization rate of $(netnoise_value)\n",
    "    causes the fidelity to drop to\n",
    "    \\$F_{0}=\n",
    "    $(round(pe_netnoise_nopurification[true_success_stat],digits=3))\n",
    "    \\$.\n",
    "    \"\"\")"
   ]
  },
  {
   "cell_type": "code",
   "execution_count": 17,
   "metadata": {},
   "outputs": [
    {
     "ename": "UndefVarError",
     "evalue": "UndefVarError: `latexstring` not defined in `Main`\nSuggestion: check for spelling errors or missing imports.",
     "output_type": "error",
     "traceback": [
      "UndefVarError: `latexstring` not defined in `Main`\n",
      "Suggestion: check for spelling errors or missing imports.\n",
      "\n",
      "Stacktrace:\n",
      " [1] top-level scope\n",
      "   @ ~/Desktop/lab_work/QuantumClifford.jl/docs/src/notebooks/jl_notebook_cell_df34fa98e69747e1a8f8a730347b8e2f_X32sZmlsZQ==.jl:1"
     ]
    }
   ],
   "source": [
    "latexstring(\"\"\"\n",
    "    But purification can increase the fidelity to\n",
    "    \\$\\\\frac{\\\\mathrm{true\\\\ success}}{\\\\mathrm{true\\\\ success}+\\\\mathrm{undetected\\\\ failure}}=\n",
    "    $(round(pe_netnoise[true_success_stat] / (pe_netnoise[true_success_stat]+pe_netnoise[false_success_stat]),digits=3))\n",
    "    \\$.\n",
    "    \"\"\")"
   ]
  },
  {
   "cell_type": "code",
   "execution_count": 18,
   "metadata": {},
   "outputs": [
    {
     "ename": "UndefVarError",
     "evalue": "UndefVarError: `latexstring` not defined in `Main`\nSuggestion: check for spelling errors or missing imports.",
     "output_type": "error",
     "traceback": [
      "UndefVarError: `latexstring` not defined in `Main`\n",
      "Suggestion: check for spelling errors or missing imports.\n",
      "\n",
      "Stacktrace:\n",
      " [1] top-level scope\n",
      "   @ ~/Desktop/lab_work/QuantumClifford.jl/docs/src/notebooks/jl_notebook_cell_df34fa98e69747e1a8f8a730347b8e2f_X33sZmlsZQ==.jl:1"
     ]
    }
   ],
   "source": [
    "latexstring(\"\"\"\n",
    "    With a rate of positive coincidence measurements of\n",
    "    \\$\\\\mathrm{true\\\\ success}+\\\\mathrm{undetected\\\\ failure}=\n",
    "    $(round(pe_netnoise[true_success_stat]+pe_netnoise[failure_stat],digits=3))\n",
    "    \\$.\n",
    "    \"\"\")"
   ]
  },
  {
   "cell_type": "markdown",
   "metadata": {},
   "source": [
    "### Monte Carlo instead of Perturbative Expansions\n",
    "\n",
    "The 10% network error rate we have picked is not all that small, and the perturbative expansion will not be all that accurate. We can attempt Monte Carlo simulations. For very large circuits this would be cheaper than perturbative expansions. Choosing the best method is a balancing act that depends on the desired accuracy, the size of the circuit, and the number of noisy components."
   ]
  },
  {
   "cell_type": "code",
   "execution_count": 19,
   "metadata": {},
   "outputs": [
    {
     "data": {
      "text/plain": [
       "Dict{CircuitStatus, Float64} with 4 entries:\n",
       "  failure:CircuitStatus(3)       => 2219.0\n",
       "  continue:CircuitStatus(0)      => 0.0\n",
       "  false_success:CircuitStatus(2) => 1182.0\n",
       "  true_success:CircuitStatus(1)  => 6599.0"
      ]
     },
     "metadata": {},
     "output_type": "display_data"
    }
   ],
   "source": [
    "mc_netnoise = mctrajectories(initial_state, [netnoise_opall,circuit...],\n",
    "                             trajectories=10000)"
   ]
  },
  {
   "cell_type": "markdown",
   "metadata": {},
   "source": [
    "### Symbolic Perturbative Expansions\n",
    "\n",
    "The perturbative expansions can be done with any of the available symbolic libraries under Julia (including the Julia interface to the SymPy Python library). Here we give an example with `AbstractAlgebra.jl`, part of Nemo. Fractions are a bit clunky, so we treat the numerator and denominator separately. `SymPy` would be simpler to use, but it can be a bit slower.\n",
    "\n",
    "We will define two symbols, one for the network noise, and one for the gate noise to be used later."
   ]
  },
  {
   "cell_type": "code",
   "execution_count": 20,
   "metadata": {},
   "outputs": [
    {
     "ename": "ArgumentError",
     "evalue": "ArgumentError: Package AbstractAlgebra not found in current path.\n- Run `import Pkg; Pkg.add(\"AbstractAlgebra\")` to install the AbstractAlgebra package.",
     "output_type": "error",
     "traceback": [
      "ArgumentError: Package AbstractAlgebra not found in current path.\n",
      "- Run `import Pkg; Pkg.add(\"AbstractAlgebra\")` to install the AbstractAlgebra package.\n",
      "\n",
      "Stacktrace:\n",
      "  [1] macro expansion\n",
      "    @ ./loading.jl:2296 [inlined]\n",
      "  [2] macro expansion\n",
      "    @ ./lock.jl:273 [inlined]\n",
      "  [3] __require(into::Module, mod::Symbol)\n",
      "    @ Base ./loading.jl:2271\n",
      "  [4] #invoke_in_world#3\n",
      "    @ ./essentials.jl:1089 [inlined]\n",
      "  [5] invoke_in_world\n",
      "    @ ./essentials.jl:1086 [inlined]\n",
      "  [6] require(into::Module, mod::Symbol)\n",
      "    @ Base ./loading.jl:2260\n",
      "  [7] eval\n",
      "    @ ./boot.jl:430 [inlined]\n",
      "  [8] include_string(mapexpr::typeof(REPL.softscope), mod::Module, code::String, filename::String)\n",
      "    @ Base ./loading.jl:2734\n",
      "  [9] #invokelatest#2\n",
      "    @ ./essentials.jl:1055 [inlined]\n",
      " [10] invokelatest\n",
      "    @ ./essentials.jl:1052 [inlined]\n",
      " [11] (::VSCodeServer.var\"#217#218\"{VSCodeServer.NotebookRunCellArguments, String})()\n",
      "    @ VSCodeServer ~/.vscode/extensions/julialang.language-julia-1.149.2/scripts/packages/VSCodeServer/src/serve_notebook.jl:24\n",
      " [12] withpath(f::VSCodeServer.var\"#217#218\"{VSCodeServer.NotebookRunCellArguments, String}, path::String)\n",
      "    @ VSCodeServer ~/.vscode/extensions/julialang.language-julia-1.149.2/scripts/packages/VSCodeServer/src/repl.jl:276\n",
      " [13] notebook_runcell_request(conn::VSCodeServer.JSONRPC.JSONRPCEndpoint{Base.PipeEndpoint, Base.PipeEndpoint, VSCodeServer.JSON.Serializations.StandardSerialization}, params::VSCodeServer.NotebookRunCellArguments, token::VSCodeServer.CancellationTokens.CancellationToken)\n",
      "    @ VSCodeServer ~/.vscode/extensions/julialang.language-julia-1.149.2/scripts/packages/VSCodeServer/src/serve_notebook.jl:13\n",
      " [14] dispatch_msg(x::VSCodeServer.JSONRPC.JSONRPCEndpoint{Base.PipeEndpoint, Base.PipeEndpoint, VSCodeServer.JSON.Serializations.StandardSerialization}, dispatcher::VSCodeServer.JSONRPC.MsgDispatcher, msg::VSCodeServer.JSONRPC.Request)\n",
      "    @ VSCodeServer.JSONRPC ~/.vscode/extensions/julialang.language-julia-1.149.2/scripts/packages/JSONRPC/src/typed.jl:68\n",
      " [15] serve_notebook(pipename::String, debugger_pipename::String, outputchannel_logger::Base.CoreLogging.SimpleLogger; error_handler::var\"#5#10\"{String})\n",
      "    @ VSCodeServer ~/.vscode/extensions/julialang.language-julia-1.149.2/scripts/packages/VSCodeServer/src/serve_notebook.jl:147\n",
      " [16] top-level scope\n",
      "    @ ~/.vscode/extensions/julialang.language-julia-1.149.2/scripts/notebook/notebook.jl:35"
     ]
    }
   ],
   "source": [
    "using AbstractAlgebra\n",
    "field = RealField # If you want to use multiprecision floats\n",
    "# field = QQ # If you want to use rationals\n",
    "R, (e_netn, e_gate) = polynomial_ring(field, [\"e_n\", \"e_g\"])\n",
    "sym_unity = R(1);"
   ]
  },
  {
   "cell_type": "code",
   "execution_count": 21,
   "metadata": {},
   "outputs": [
    {
     "ename": "UndefVarError",
     "evalue": "UndefVarError: `e_netn` not defined in `Main`\nSuggestion: check for spelling errors or missing imports.",
     "output_type": "error",
     "traceback": [
      "UndefVarError: `e_netn` not defined in `Main`\n",
      "Suggestion: check for spelling errors or missing imports.\n",
      "\n",
      "Stacktrace:\n",
      " [1] top-level scope\n",
      "   @ ~/Desktop/lab_work/QuantumClifford.jl/docs/src/notebooks/jl_notebook_cell_df34fa98e69747e1a8f8a730347b8e2f_X41sZmlsZQ==.jl:1"
     ]
    }
   ],
   "source": [
    "sym_netnoise = UnbiasedUncorrelatedNoise(e_netn)\n",
    "sym_netnoise_opall = NoiseOpAll(sym_netnoise);"
   ]
  },
  {
   "cell_type": "code",
   "execution_count": 22,
   "metadata": {},
   "outputs": [
    {
     "ename": "UndefVarError",
     "evalue": "UndefVarError: `sym_netnoise_opall` not defined in `Main`\nSuggestion: check for spelling errors or missing imports.",
     "output_type": "error",
     "traceback": [
      "UndefVarError: `sym_netnoise_opall` not defined in `Main`\n",
      "Suggestion: check for spelling errors or missing imports.\n",
      "\n",
      "Stacktrace:\n",
      " [1] top-level scope\n",
      "   @ ~/Desktop/lab_work/QuantumClifford.jl/docs/src/notebooks/jl_notebook_cell_df34fa98e69747e1a8f8a730347b8e2f_X42sZmlsZQ==.jl:1"
     ]
    }
   ],
   "source": [
    "sym_pe_netnoise = petrajectories(initial_state, [sym_netnoise_opall,circuit...],\n",
    "                             branch_weight=sym_unity)\n",
    "\n",
    "sym_true_success = sym_pe_netnoise[true_success_stat]\n",
    "sym_coincidence_prob = (sym_pe_netnoise[true_success_stat]+sym_pe_netnoise[failure_stat]);"
   ]
  },
  {
   "cell_type": "markdown",
   "metadata": {},
   "source": [
    "We can print out the symbolic expression:"
   ]
  },
  {
   "cell_type": "code",
   "execution_count": 23,
   "metadata": {},
   "outputs": [
    {
     "ename": "UndefVarError",
     "evalue": "UndefVarError: `latexstring` not defined in `Main`\nSuggestion: check for spelling errors or missing imports.",
     "output_type": "error",
     "traceback": [
      "UndefVarError: `latexstring` not defined in `Main`\n",
      "Suggestion: check for spelling errors or missing imports.\n",
      "\n",
      "Stacktrace:\n",
      " [1] top-level scope\n",
      "   @ ~/Desktop/lab_work/QuantumClifford.jl/docs/src/notebooks/jl_notebook_cell_df34fa98e69747e1a8f8a730347b8e2f_X44sZmlsZQ==.jl:1"
     ]
    }
   ],
   "source": [
    "latexstring(sym_true_success)"
   ]
  },
  {
   "cell_type": "markdown",
   "metadata": {},
   "source": [
    "And evaluate it to compare it with the numerical calculation:"
   ]
  },
  {
   "cell_type": "code",
   "execution_count": 24,
   "metadata": {},
   "outputs": [
    {
     "ename": "UndefVarError",
     "evalue": "UndefVarError: `sym_true_success` not defined in `Main`\nSuggestion: check for spelling errors or missing imports.",
     "output_type": "error",
     "traceback": [
      "UndefVarError: `sym_true_success` not defined in `Main`\n",
      "Suggestion: check for spelling errors or missing imports.\n",
      "\n",
      "Stacktrace:\n",
      " [1] top-level scope\n",
      "   @ ~/Desktop/lab_work/QuantumClifford.jl/docs/src/notebooks/jl_notebook_cell_df34fa98e69747e1a8f8a730347b8e2f_X46sZmlsZQ==.jl:1"
     ]
    }
   ],
   "source": [
    "sym_true_success(netnoise_value, 0) # evaluate at e_n = netnoise_value, e_g = 0"
   ]
  },
  {
   "cell_type": "code",
   "execution_count": 25,
   "metadata": {},
   "outputs": [
    {
     "data": {
      "text/plain": [
       "0.6561"
      ]
     },
     "metadata": {},
     "output_type": "display_data"
    }
   ],
   "source": [
    "pe_netnoise[true_success_stat]"
   ]
  },
  {
   "cell_type": "markdown",
   "metadata": {},
   "source": [
    "### Higher order expansions\n",
    "\n",
    "Higher order expansions are also possible with this library, however the cost of the simulation grows exponentially in the order, due to the combinatorial explosion of trajectories that need to be followed. See the example below where we see the number of branches for the depolarization acting on all qubits."
   ]
  },
  {
   "cell_type": "code",
   "execution_count": 26,
   "metadata": {},
   "outputs": [
    {
     "name": "stdout",
     "output_type": "stream",
     "text": [
      "(order = 0, nb_of_branches = 1, total_probability = 0.6561)\n",
      "(order = 1, nb_of_branches = 13, total_probability = 0.9476999999999999)\n",
      "(order = 2, nb_of_branches = 67, total_probability = 0.9963000000000005)\n",
      "(order = 3, nb_of_branches = 175, total_probability = 0.9999000000000001)\n",
      "(order = 4, nb_of_branches = 256, total_probability = 1.0000000000000007)\n"
     ]
    }
   ],
   "source": [
    "for order in [0,1,2,3,4]\n",
    "    branches = QuantumClifford.applynoise_branches(initial_state, netnoise, [1,2,3,4], max_order=order)\n",
    "    println((order = order, nb_of_branches = length(branches), total_probability = sum(b[2] for b in branches)))\n",
    "end"
   ]
  },
  {
   "cell_type": "markdown",
   "metadata": {},
   "source": [
    "Let us compute the whole circuits to the given order"
   ]
  },
  {
   "cell_type": "code",
   "execution_count": 27,
   "metadata": {},
   "outputs": [
    {
     "ename": "UndefVarError",
     "evalue": "UndefVarError: `sym_netnoise_opall` not defined in `Main`\nSuggestion: check for spelling errors or missing imports.",
     "output_type": "error",
     "traceback": [
      "UndefVarError: `sym_netnoise_opall` not defined in `Main`\n",
      "Suggestion: check for spelling errors or missing imports.\n",
      "\n",
      "Stacktrace:\n",
      " [1] macro expansion\n",
      "   @ ./timing.jl:581 [inlined]\n",
      " [2] top-level scope\n",
      "   @ ~/Desktop/lab_work/QuantumClifford.jl/docs/src/notebooks/jl_notebook_cell_df34fa98e69747e1a8f8a730347b8e2f_X54sZmlsZQ==.jl:1"
     ]
    }
   ],
   "source": [
    "@time sym_pe_netnoise2 = petrajectories(initial_state, [sym_netnoise_opall,circuit...],\n",
    "                                  branch_weight=sym_unity, max_order=2);\n",
    "@time sym_pe_netnoise3 = petrajectories(initial_state, [sym_netnoise_opall,circuit...],\n",
    "                                  branch_weight=sym_unity, max_order=3);\n",
    "@time sym_pe_netnoise4 = petrajectories(initial_state, [sym_netnoise_opall,circuit...],\n",
    "                                  branch_weight=sym_unity, max_order=4);"
   ]
  },
  {
   "cell_type": "markdown",
   "metadata": {},
   "source": [
    "### All of the results together"
   ]
  },
  {
   "cell_type": "code",
   "execution_count": 28,
   "metadata": {},
   "outputs": [
    {
     "ename": "UndefVarError",
     "evalue": "UndefVarError: `plot` not defined in `Main`\nSuggestion: check for spelling errors or missing imports.",
     "output_type": "error",
     "traceback": [
      "UndefVarError: `plot` not defined in `Main`\n",
      "Suggestion: check for spelling errors or missing imports.\n",
      "\n",
      "Stacktrace:\n",
      " [1] top-level scope\n",
      "   @ ~/Desktop/lab_work/QuantumClifford.jl/docs/src/notebooks/jl_notebook_cell_df34fa98e69747e1a8f8a730347b8e2f_X56sZmlsZQ==.jl:1"
     ]
    }
   ],
   "source": [
    "plot(title=\"Purified Fidelity vs Initial Fidelity\\naccording to different calculation methods\")\n",
    "\n",
    "netnoise_pe_samples = 0.0:0.005:0.4\n",
    "netnoise_mc_samples = 0.0:0.05:0.4\n",
    "mc_trajectories = [50, 5000]\n",
    "\n",
    "# No purification\n",
    "exact_solution_no_purification = petrajectories(good_bell_state,\n",
    "                                                [sym_netnoise_opall,nopurification_circuit...],\n",
    "                                                branch_weight=sym_unity,\n",
    "                                                max_order=100)\n",
    "F0 = exact_solution_no_purification[true_success_stat].(netnoise_pe_samples,0)\n",
    "plot!(F0,F0,color=:black,alpha=0.3,label=false)\n",
    "\n",
    "# Symbolic perturbative expansions\n",
    "for (order,sym_result) in enumerate(\n",
    "        [sym_pe_netnoise,sym_pe_netnoise2,sym_pe_netnoise3,sym_pe_netnoise4])\n",
    "    ts = sym_result[true_success_stat].(netnoise_pe_samples, 0)\n",
    "    uf = sym_result[failure_stat].(netnoise_pe_samples, 0)\n",
    "    Fout = ts ./ (ts .+ uf)\n",
    "    plot!(F0, Fout, label=\"expansion to order=$(order)\", lw=2)\n",
    "end\n",
    "\n",
    "# Monte Carlo approach\n",
    "F0 = exact_solution_no_purification[true_success_stat].(netnoise_mc_samples,0)\n",
    "for m in mc_trajectories\n",
    "    Fout_mc = []\n",
    "    for n in netnoise_mc_samples\n",
    "        netnoise = UnbiasedUncorrelatedNoise(n)\n",
    "        netnoise_opall = NoiseOpAll(netnoise)\n",
    "        mc_netnoise = mctrajectories(initial_state, [netnoise_opall,circuit...],\n",
    "                                     trajectories=m)\n",
    "        push!(Fout_mc, mc_netnoise[true_success_stat]/(mc_netnoise[true_success_stat]+get(mc_netnoise,failure_stat,0)))\n",
    "    end\n",
    "    plot!(F0, Fout_mc, label=\"MC $(m) trajectories\", line=false, marker=true)\n",
    "end\n",
    "\n",
    "plot!(legend=:outertopright, xlabel=\"Input Fidelity\", ylabel=\"Output Fidelity\")"
   ]
  },
  {
   "cell_type": "markdown",
   "metadata": {},
   "source": [
    "## Local Operational Noise in Addition to the Network Noise\n",
    "\n",
    "Up to here we considered imperfect initial states purified by perfect circuits. Now we will introduce imperfect gates as well, and study a few different regimes of the gate error model. We will add a small chance of depolarization to all of the gates and a chance for flipping a qubit to all measurements."
   ]
  },
  {
   "cell_type": "code",
   "execution_count": 29,
   "metadata": {},
   "outputs": [],
   "source": [
    "# A helper function to add noise to ops and lists of ops.\n",
    "make_noisy(g::SparseGate, noise) = NoisyGate(g, UnbiasedUncorrelatedNoise(noise))\n",
    "make_noisy(m::BellMeasurement, noise) = NoisyBellMeasurement(m, noise)\n",
    "make_noisy(other_op, noise) = other_op\n",
    "make_noisy(circuit::AbstractVector, noise) = [make_noisy(op, noise) for op in circuit];"
   ]
  },
  {
   "cell_type": "code",
   "execution_count": 30,
   "metadata": {},
   "outputs": [
    {
     "ename": "UndefVarError",
     "evalue": "UndefVarError: `sym_netnoise_opall` not defined in `Main`\nSuggestion: check for spelling errors or missing imports.",
     "output_type": "error",
     "traceback": [
      "UndefVarError: `sym_netnoise_opall` not defined in `Main`\n",
      "Suggestion: check for spelling errors or missing imports.\n",
      "\n",
      "Stacktrace:\n",
      " [1] top-level scope\n",
      "   @ ~/Desktop/lab_work/QuantumClifford.jl/docs/src/notebooks/jl_notebook_cell_df34fa98e69747e1a8f8a730347b8e2f_X62sZmlsZQ==.jl:1"
     ]
    }
   ],
   "source": [
    "sym_pe_allnoise = petrajectories(\n",
    "    initial_state,\n",
    "    [sym_netnoise_opall,make_noisy(circuit, e_gate)...],\n",
    "    branch_weight=sym_unity)\n",
    "\n",
    "sym_true_success = sym_pe_allnoise[true_success_stat]\n",
    "sym_coincidence_prob = (sym_pe_allnoise[true_success_stat]+sym_pe_allnoise[failure_stat]);"
   ]
  },
  {
   "cell_type": "code",
   "execution_count": 31,
   "metadata": {},
   "outputs": [
    {
     "ename": "UndefVarError",
     "evalue": "UndefVarError: `latexstring` not defined in `Main`\nSuggestion: check for spelling errors or missing imports.",
     "output_type": "error",
     "traceback": [
      "UndefVarError: `latexstring` not defined in `Main`\n",
      "Suggestion: check for spelling errors or missing imports.\n",
      "\n",
      "Stacktrace:\n",
      " [1] top-level scope\n",
      "   @ ~/Desktop/lab_work/QuantumClifford.jl/docs/src/notebooks/jl_notebook_cell_df34fa98e69747e1a8f8a730347b8e2f_X63sZmlsZQ==.jl:1"
     ]
    }
   ],
   "source": [
    "latexstring(sym_true_success) # Not all that legible # TODO print this better"
   ]
  },
  {
   "cell_type": "code",
   "execution_count": 32,
   "metadata": {},
   "outputs": [
    {
     "ename": "UndefVarError",
     "evalue": "UndefVarError: `sym_netnoise_opall` not defined in `Main`\nSuggestion: check for spelling errors or missing imports.",
     "output_type": "error",
     "traceback": [
      "UndefVarError: `sym_netnoise_opall` not defined in `Main`\n",
      "Suggestion: check for spelling errors or missing imports.\n",
      "\n",
      "Stacktrace:\n",
      " [1] top-level scope\n",
      "   @ ~/Desktop/lab_work/QuantumClifford.jl/docs/src/notebooks/jl_notebook_cell_df34fa98e69747e1a8f8a730347b8e2f_X64sZmlsZQ==.jl:1"
     ]
    }
   ],
   "source": [
    "sym_allnoise_circuit = [sym_netnoise_opall,make_noisy(circuit, e_gate)...]"
   ]
  },
  {
   "cell_type": "code",
   "execution_count": 33,
   "metadata": {},
   "outputs": [
    {
     "ename": "UndefVarError",
     "evalue": "UndefVarError: `sym_unity` not defined in `Main`\nSuggestion: check for spelling errors or missing imports.",
     "output_type": "error",
     "traceback": [
      "UndefVarError: `sym_unity` not defined in `Main`\n",
      "Suggestion: check for spelling errors or missing imports.\n",
      "\n",
      "Stacktrace:\n",
      " [1] macro expansion\n",
      "   @ ./timing.jl:581 [inlined]\n",
      " [2] top-level scope\n",
      "   @ ~/Desktop/lab_work/QuantumClifford.jl/docs/src/notebooks/jl_notebook_cell_df34fa98e69747e1a8f8a730347b8e2f_X65sZmlsZQ==.jl:1"
     ]
    }
   ],
   "source": [
    "@time sym_pe_allnoise2 = petrajectories(\n",
    "    initial_state,\n",
    "    sym_allnoise_circuit,\n",
    "    branch_weight=sym_unity,\n",
    "    max_order=2);"
   ]
  },
  {
   "cell_type": "code",
   "execution_count": 34,
   "metadata": {},
   "outputs": [
    {
     "ename": "UndefVarError",
     "evalue": "UndefVarError: `sym_unity` not defined in `Main`\nSuggestion: check for spelling errors or missing imports.",
     "output_type": "error",
     "traceback": [
      "UndefVarError: `sym_unity` not defined in `Main`\n",
      "Suggestion: check for spelling errors or missing imports.\n",
      "\n",
      "Stacktrace:\n",
      " [1] macro expansion\n",
      "   @ ./timing.jl:581 [inlined]\n",
      " [2] top-level scope\n",
      "   @ ~/Desktop/lab_work/QuantumClifford.jl/docs/src/notebooks/jl_notebook_cell_df34fa98e69747e1a8f8a730347b8e2f_X66sZmlsZQ==.jl:1"
     ]
    }
   ],
   "source": [
    "@time sym_pe_allnoise3 = petrajectories(\n",
    "    initial_state,\n",
    "    sym_allnoise_circuit,\n",
    "    branch_weight=sym_unity,\n",
    "    max_order=3);"
   ]
  },
  {
   "cell_type": "code",
   "execution_count": 35,
   "metadata": {},
   "outputs": [
    {
     "ename": "UndefVarError",
     "evalue": "UndefVarError: `sym_unity` not defined in `Main`\nSuggestion: check for spelling errors or missing imports.",
     "output_type": "error",
     "traceback": [
      "UndefVarError: `sym_unity` not defined in `Main`\n",
      "Suggestion: check for spelling errors or missing imports.\n",
      "\n",
      "Stacktrace:\n",
      " [1] macro expansion\n",
      "   @ ./timing.jl:581 [inlined]\n",
      " [2] top-level scope\n",
      "   @ ~/Desktop/lab_work/QuantumClifford.jl/docs/src/notebooks/jl_notebook_cell_df34fa98e69747e1a8f8a730347b8e2f_Y100sZmlsZQ==.jl:1"
     ]
    }
   ],
   "source": [
    "@time sym_pe_allnoise4 = petrajectories(\n",
    "    initial_state,\n",
    "    sym_allnoise_circuit,\n",
    "    branch_weight=sym_unity,\n",
    "    max_order=4);"
   ]
  },
  {
   "cell_type": "markdown",
   "metadata": {},
   "source": [
    "### All of the noisy circuit results together"
   ]
  },
  {
   "cell_type": "code",
   "execution_count": 36,
   "metadata": {},
   "outputs": [
    {
     "ename": "UndefVarError",
     "evalue": "UndefVarError: `plot` not defined in `Main`\nSuggestion: check for spelling errors or missing imports.",
     "output_type": "error",
     "traceback": [
      "UndefVarError: `plot` not defined in `Main`\n",
      "Suggestion: check for spelling errors or missing imports.\n",
      "\n",
      "Stacktrace:\n",
      " [1] top-level scope\n",
      "   @ ~/Desktop/lab_work/QuantumClifford.jl/docs/src/notebooks/jl_notebook_cell_df34fa98e69747e1a8f8a730347b8e2f_Y102sZmlsZQ==.jl:1"
     ]
    }
   ],
   "source": [
    "plot(title=\"Purified Fidelity vs Initial Fidelity\\nboth network and local noise\\naccording to different calculation methods\")\n",
    "\n",
    "netnoise_pe_samples = 0.0:0.005:0.4\n",
    "netnoise_mc_samples = 0.0:0.05:0.4\n",
    "local_noise_samples = [0.0, 0.01, 0.05]\n",
    "mc_trajectories = 10000\n",
    "\n",
    "line_styles = [:dot, :dashdot, :dash, :solid]\n",
    "\n",
    "# No purification\n",
    "exact_solution_no_purification = petrajectories(good_bell_state,\n",
    "                                                [sym_netnoise_opall,nopurification_circuit...],\n",
    "                                                branch_weight=sym_unity,\n",
    "                                                max_order=100)\n",
    "F0 = exact_solution_no_purification[true_success_stat].(netnoise_pe_samples,0)\n",
    "plot!(F0,F0,color=:black,alpha=0.3,label=false)\n",
    "\n",
    "# Symbolic perturbative expansions\n",
    "for (li, local_noise) in enumerate(local_noise_samples)\n",
    "    for (order,sym_result) in enumerate(\n",
    "            [sym_pe_allnoise,sym_pe_allnoise2,sym_pe_allnoise3,sym_pe_allnoise4])\n",
    "        ts = sym_result[true_success_stat].(netnoise_pe_samples, local_noise)\n",
    "        uf = sym_result[failure_stat].(netnoise_pe_samples, local_noise)\n",
    "        Fout = ts ./ (ts .+ uf)\n",
    "        plot!(F0, Fout,\n",
    "            label = order==4 ? \"gate error rate of $(local_noise)\" : nothing,\n",
    "            lw = order==4 ? 2 : 1.5,\n",
    "            color=li, linestyle=line_styles[order],\n",
    "        )\n",
    "    end\n",
    "end\n",
    "\n",
    "\n",
    "# Monte Carlo approach\n",
    "F0 = exact_solution_no_purification[true_success_stat].(netnoise_mc_samples,0)\n",
    "for (li, local_noise) in enumerate(local_noise_samples)\n",
    "    Fout_mc = []\n",
    "    for n in netnoise_mc_samples\n",
    "        netnoise = UnbiasedUncorrelatedNoise(n)\n",
    "        netnoise_opall = NoiseOpAll(netnoise)\n",
    "        c = [netnoise_opall,circuit...]\n",
    "        c = make_noisy(c, local_noise)\n",
    "        mc_netnoise = mctrajectories(initial_state, c,\n",
    "                                     trajectories=mc_trajectories)\n",
    "        push!(Fout_mc, mc_netnoise[true_success_stat]/(mc_netnoise[true_success_stat]+get(mc_netnoise,failure_stat,0)))\n",
    "    end\n",
    "    plot!(F0, Fout_mc, label=nothing, line=false, marker=true, color=li)\n",
    "end\n",
    "\n",
    "# Legend\n",
    "for (li, style) in enumerate(line_styles)\n",
    "    plot!([-1], [-1], linestyle = style, label = \"perturbation to order $(li)\", color = \"black\")\n",
    "end\n",
    "plot!([-1], [-1], line=false, marker=true, label = \"10 000 MC trajectories\", color = \"black\")\n",
    "plot!(xlim=(0.39,1.01))\n",
    "plot!(ylim=(0.35,1.03))\n",
    "plot!(legend=:outertopright, xlabel=\"Input Fidelity\", ylabel=\"Output Fidelity\")"
   ]
  },
  {
   "cell_type": "markdown",
   "metadata": {},
   "source": [
    "## Reproducibility information"
   ]
  },
  {
   "cell_type": "code",
   "execution_count": 37,
   "metadata": {},
   "outputs": [
    {
     "name": "stdout",
     "output_type": "stream",
     "text": [
      "Julia Version 1.11.6\n",
      "Commit 9615af0f269 (2025-07-09 12:58 UTC)\n",
      "Build Info:\n",
      "  Official https://julialang.org/ release\n",
      "Platform Info:\n",
      "  OS: macOS (arm64-apple-darwin24.0.0)\n",
      "  CPU: 8 × Apple M3\n",
      "  WORD_SIZE: 64\n",
      "  LLVM: libLLVM-16.0.6 (ORCJIT, apple-m2)\n",
      "Threads: 1 default, 0 interactive, 1 GC (on 4 virtual cores)\n",
      "\u001b[32m\u001b[1mStatus\u001b[22m\u001b[39m `~/Desktop/lab_work/QuantumClifford.jl/docs/Project.toml`\n",
      "  \u001b[90m[0525e862] \u001b[39mQuantumClifford v0.10.0 `~/Desktop/lab_work/QuantumClifford.jl`\n"
     ]
    }
   ],
   "source": [
    "versioninfo()\n",
    "using Pkg\n",
    "Pkg.status(\"QuantumClifford\")"
   ]
  }
 ],
 "metadata": {
  "kernelspec": {
   "display_name": "Julia 1.11.6",
   "language": "julia",
   "name": "julia-1.11"
  },
  "language_info": {
   "file_extension": ".jl",
   "mimetype": "application/julia",
   "name": "julia",
   "version": "1.11.6"
  }
 },
 "nbformat": 4,
 "nbformat_minor": 4
}
