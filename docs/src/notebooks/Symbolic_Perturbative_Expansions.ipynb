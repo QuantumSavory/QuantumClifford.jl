{
 "cells": [
  {
   "cell_type": "code",
   "execution_count": 1,
   "metadata": {},
   "outputs": [],
   "source": [
    "using Revise\n",
    "using QuantumClifford\n",
    "using QuantumClifford.Experimental.NoisyCircuits\n",
    "using QuantumCliffordPlots\n",
    "using Plots\n",
    "using ProgressMeter\n",
    "using BenchmarkTools"
   ]
  },
  {
   "cell_type": "markdown",
   "metadata": {},
   "source": [
    "The perturbative expansion code supports symbolic calculation. Simply use one of the many symbolic packages in Julia and set the various parameters of interest to symbolic values instead of numeric ones. Here we show an example of a typical purification circuit that uses various computer algebra system available in Julia."
   ]
  },
  {
   "cell_type": "markdown",
   "metadata": {},
   "source": [
    "The circuit we will study is:"
   ]
  },
  {
   "cell_type": "code",
   "execution_count": 2,
   "metadata": {},
   "outputs": [
    {
     "data": {
      "image/png": "[encoded data removed]",
      "text/plain": [
       "5-element Vector{AbstractOperation}:\n",
       " NoiseOpAll(UnbiasedUncorrelatedNoise{Float64}(0.1))\n",
       " Symbolic two-qubit gate on qubit 1 and 3\n",
       "X_ ⟼ + XX\n",
       "_X ⟼ + _X\n",
       "Z_ ⟼ + Z_\n",
       "_Z ⟼ + ZZ\n",
       "\n",
       " Symbolic two-qubit gate on qubit 2 and 4\n",
       "X_ ⟼ + XX\n",
       "_X ⟼ + _X\n",
       "Z_ ⟼ + Z_\n",
       "_Z ⟼ + ZZ\n",
       "\n",
       " BellMeasurement(QuantumClifford.AbstractMeasurement[sMX{Nothing}(3, nothing), sMX{Nothing}(4, nothing)])\n",
       " VerifyOp(+ ZZ\n",
       "+ XX, [1, 2])"
      ]
     },
     "execution_count": 2,
     "metadata": {},
     "output_type": "execute_result"
    }
   ],
   "source": [
    "good_bell_state = S\"XX\n",
    "                    ZZ\"\n",
    "initial_state = MixedDestabilizer(good_bell_state⊗good_bell_state)\n",
    "\n",
    "g1 = sCNOT(1,3) # CNOT between qubit 1 and qubit 3 (both with Alice)\n",
    "g2 = sCNOT(2,4) # CNOT between qubit 2 and qubit 4 (both with Bob)\n",
    "m = BellMeasurement([sMX(3),sMX(4)]) # Bell measurement on qubit 3 and 4\n",
    "v = VerifyOp(good_bell_state,[1,2]) # Verify that qubit 1 and 2 indeed form a good Bell pair\n",
    "epsilon = 0.1 # The error rate\n",
    "n = NoiseOpAll(UnbiasedUncorrelatedNoise(epsilon))\n",
    "\n",
    "# This circuit performs a depolarization at rate `epsilon` to all qubits,\n",
    "# then bilater CNOT operations\n",
    "# then a Bell measurement\n",
    "# followed by checking whether the final result indeed corresponds to the correct Bell pair.\n",
    "circuit = [n,g1,g2,m,v] # Drawing the circuit out can be a bit slow as it uses LaTeX"
   ]
  },
  {
   "cell_type": "markdown",
   "metadata": {},
   "source": [
    "## If you want to use `Symbolics`"
   ]
  },
  {
   "cell_type": "code",
   "execution_count": 3,
   "metadata": {},
   "outputs": [],
   "source": [
    "using Symbolics\n",
    "@variables e\n",
    "unity = one(e);"
   ]
  },
  {
   "cell_type": "code",
   "execution_count": 4,
   "metadata": {},
   "outputs": [
    {
     "data": {
      "text/plain": [
       "Dict{QuantumClifford.Experimental.NoisyCircuits.CircuitStatus, Num} with 3 entries:\n",
       "  failure:CircuitStatus(3)       => 4e*((1 - 3e)^3)\n",
       "  false_success:CircuitStatus(2) => 6e*((1 - 3e)^3)\n",
       "  true_success:CircuitStatus(1)  => (1 - 3e)^4 + 2e*((1 - 3e)^3)"
      ]
     },
     "execution_count": 4,
     "metadata": {},
     "output_type": "execute_result"
    }
   ],
   "source": [
    "good_bell_state = S\"XX\n",
    "                    ZZ\"\n",
    "initial_state = MixedDestabilizer(good_bell_state⊗good_bell_state)\n",
    "\n",
    "g1 = sCNOT(1,3) # CNOT between qubit 1 and qubit 3 (both with Alice)\n",
    "g2 = sCNOT(2,4) # CNOT between qubit 2 and qubit 4 (both with Bob)\n",
    "m = BellMeasurement([sMX(3),sMX(4)]) # Bell measurement on qubit 3 and 4\n",
    "v = VerifyOp(good_bell_state,[1,2]) # Verify that qubit 1 and 2 indeed form a good Bell pair\n",
    "epsilon = e # The error rate\n",
    "n = NoiseOpAll(UnbiasedUncorrelatedNoise(epsilon))\n",
    "\n",
    "# This circuit performs a depolarization at rate `epsilon` to all qubits,\n",
    "# then bilater CNOT operations\n",
    "# then a Bell measurement\n",
    "# followed by checking whether the final result indeed corresponds to the correct Bell pair.\n",
    "circuit = [n,g1,g2,m,v]\n",
    "\n",
    "pe_symbolic = petrajectories(initial_state, circuit, branch_weight=unity) # perturbative expansion"
   ]
  },
  {
   "cell_type": "code",
   "execution_count": 5,
   "metadata": {},
   "outputs": [
    {
     "data": {
      "text/plain": [
       "BenchmarkTools.Trial: 3621 samples with 1 evaluation.\n",
       " Range \u001b[90m(\u001b[39m\u001b[36m\u001b[1mmin\u001b[22m\u001b[39m … \u001b[35mmax\u001b[39m\u001b[90m):  \u001b[39m\u001b[36m\u001b[1m1.059 ms\u001b[22m\u001b[39m … \u001b[35m 24.199 ms\u001b[39m  \u001b[90m┊\u001b[39m GC \u001b[90m(\u001b[39mmin … max\u001b[90m): \u001b[39m0.00% … 92.42%\n",
       " Time  \u001b[90m(\u001b[39m\u001b[34m\u001b[1mmedian\u001b[22m\u001b[39m\u001b[90m):     \u001b[39m\u001b[34m\u001b[1m1.251 ms               \u001b[22m\u001b[39m\u001b[90m┊\u001b[39m GC \u001b[90m(\u001b[39mmedian\u001b[90m):    \u001b[39m0.00%\n",
       " Time  \u001b[90m(\u001b[39m\u001b[32m\u001b[1mmean\u001b[22m\u001b[39m ± \u001b[32mσ\u001b[39m\u001b[90m):   \u001b[39m\u001b[32m\u001b[1m1.373 ms\u001b[22m\u001b[39m ± \u001b[32m904.878 μs\u001b[39m  \u001b[90m┊\u001b[39m GC \u001b[90m(\u001b[39mmean ± σ\u001b[90m):  \u001b[39m2.71% ±  4.04%\n",
       "\n",
       "  \u001b[39m \u001b[39m \u001b[39m \u001b[39m█\u001b[39m▄\u001b[39m█\u001b[39m▄\u001b[39m█\u001b[34m▃\u001b[39m\u001b[39m▃\u001b[39m▁\u001b[39m \u001b[39m \u001b[32m \u001b[39m\u001b[39m \u001b[39m \u001b[39m \u001b[39m \u001b[39m \u001b[39m \u001b[39m \u001b[39m \u001b[39m \u001b[39m \u001b[39m \u001b[39m \u001b[39m \u001b[39m \u001b[39m \u001b[39m \u001b[39m \u001b[39m \u001b[39m \u001b[39m \u001b[39m \u001b[39m \u001b[39m \u001b[39m \u001b[39m \u001b[39m \u001b[39m \u001b[39m \u001b[39m \u001b[39m \u001b[39m \u001b[39m \u001b[39m \u001b[39m \u001b[39m \u001b[39m \u001b[39m \u001b[39m \u001b[39m \u001b[39m \u001b[39m \u001b[39m \u001b[39m \u001b[39m \u001b[39m \u001b[39m \u001b[39m \n",
       "  \u001b[39m▂\u001b[39m▅\u001b[39m█\u001b[39m█\u001b[39m█\u001b[39m█\u001b[39m█\u001b[39m█\u001b[34m█\u001b[39m\u001b[39m█\u001b[39m█\u001b[39m█\u001b[39m▆\u001b[32m▅\u001b[39m\u001b[39m▄\u001b[39m▄\u001b[39m▃\u001b[39m▃\u001b[39m▃\u001b[39m▂\u001b[39m▂\u001b[39m▂\u001b[39m▂\u001b[39m▂\u001b[39m▂\u001b[39m▂\u001b[39m▂\u001b[39m▂\u001b[39m▂\u001b[39m▂\u001b[39m▂\u001b[39m▁\u001b[39m▁\u001b[39m▂\u001b[39m▁\u001b[39m▂\u001b[39m▁\u001b[39m▁\u001b[39m▁\u001b[39m▁\u001b[39m▁\u001b[39m▁\u001b[39m▁\u001b[39m▁\u001b[39m▁\u001b[39m▁\u001b[39m▂\u001b[39m▁\u001b[39m▂\u001b[39m▁\u001b[39m▁\u001b[39m▁\u001b[39m▁\u001b[39m▁\u001b[39m▁\u001b[39m▁\u001b[39m▁\u001b[39m▁\u001b[39m▁\u001b[39m \u001b[39m▃\n",
       "  1.06 ms\u001b[90m         Histogram: frequency by time\u001b[39m        2.51 ms \u001b[0m\u001b[1m<\u001b[22m\n",
       "\n",
       " Memory estimate\u001b[90m: \u001b[39m\u001b[33m352.16 KiB\u001b[39m, allocs estimate\u001b[90m: \u001b[39m\u001b[33m8202\u001b[39m."
      ]
     },
     "execution_count": 5,
     "metadata": {},
     "output_type": "execute_result"
    }
   ],
   "source": [
    "@benchmark petrajectories(initial_state, circuit, branch_weight=unity)"
   ]
  },
  {
   "cell_type": "code",
   "execution_count": 6,
   "metadata": {},
   "outputs": [
    {
     "data": {
      "text/latex": [
       "\\begin{equation}\n",
       "0.3086999999999999\n",
       "\\end{equation}\n"
      ],
      "text/plain": [
       "0.3086999999999999"
      ]
     },
     "execution_count": 6,
     "metadata": {},
     "output_type": "execute_result"
    }
   ],
   "source": [
    "# How to evaluate numerically\n",
    "substitute(pe_symbolic[true_success_stat], Dict(e=>0.1))"
   ]
  },
  {
   "cell_type": "markdown",
   "metadata": {},
   "source": [
    "## If you want to use `AbstractAlgebra`"
   ]
  },
  {
   "cell_type": "code",
   "execution_count": 7,
   "metadata": {},
   "outputs": [],
   "source": [
    "using AbstractAlgebra # Consider using Nemo.jl which can be much faster while having the same interfaces\n",
    "R, (e,) = PolynomialRing(RealField, [\"e\"])\n",
    "unity = R(1);"
   ]
  },
  {
   "cell_type": "code",
   "execution_count": 8,
   "metadata": {},
   "outputs": [
    {
     "data": {
      "text/plain": [
       "Dict{QuantumClifford.Experimental.NoisyCircuits.CircuitStatus, AbstractAlgebra.Generic.MPoly{BigFloat}} with 3 entries:\n",
       "  failure:CircuitStatus(3)       => -108.0*e^4 + 108.0*e^3 - 36.0*e^2 + 4.0*e\n",
       "  false_success:CircuitStatus(2) => -162.0*e^4 + 162.0*e^3 - 54.0*e^2 + 6.0*e\n",
       "  true_success:CircuitStatus(1)  => 27.0*e^4 - 54.0*e^3 + 36.0*e^2 - 10.0*e + 1"
      ]
     },
     "execution_count": 8,
     "metadata": {},
     "output_type": "execute_result"
    }
   ],
   "source": [
    "good_bell_state = S\"XX\n",
    "                    ZZ\"\n",
    "initial_state = MixedDestabilizer(good_bell_state⊗good_bell_state)\n",
    "\n",
    "g1 = sCNOT(1,3) # CNOT between qubit 1 and qubit 3 (both with Alice)\n",
    "g2 = sCNOT(2,4) # CNOT between qubit 2 and qubit 4 (both with Bob)\n",
    "m = BellMeasurement([sMX(3),sMX(4)]) # Bell measurement on qubit 3 and 4\n",
    "v = VerifyOp(good_bell_state,[1,2]) # Verify that qubit 1 and 2 indeed form a good Bell pair\n",
    "epsilon = e # The error rate\n",
    "n = NoiseOpAll(UnbiasedUncorrelatedNoise(epsilon))\n",
    "\n",
    "# This circuit performs a depolarization at rate `epsilon` to all qubits,\n",
    "# then bilater CNOT operations\n",
    "# then a Bell measurement\n",
    "# followed by checking whether the final result indeed corresponds to the correct Bell pair.\n",
    "circuit = [n,g1,g2,m,v]\n",
    "\n",
    "pe_symbolic = petrajectories(initial_state, circuit, branch_weight=unity) # perturbative expansion"
   ]
  },
  {
   "cell_type": "code",
   "execution_count": 9,
   "metadata": {},
   "outputs": [
    {
     "data": {
      "text/plain": [
       "BenchmarkTools.Trial: 7012 samples with 1 evaluation.\n",
       " Range \u001b[90m(\u001b[39m\u001b[36m\u001b[1mmin\u001b[22m\u001b[39m … \u001b[35mmax\u001b[39m\u001b[90m):  \u001b[39m\u001b[36m\u001b[1m580.274 μs\u001b[22m\u001b[39m … \u001b[35m 24.745 ms\u001b[39m  \u001b[90m┊\u001b[39m GC \u001b[90m(\u001b[39mmin … max\u001b[90m): \u001b[39m0.00% … 96.18%\n",
       " Time  \u001b[90m(\u001b[39m\u001b[34m\u001b[1mmedian\u001b[22m\u001b[39m\u001b[90m):     \u001b[39m\u001b[34m\u001b[1m638.222 μs               \u001b[22m\u001b[39m\u001b[90m┊\u001b[39m GC \u001b[90m(\u001b[39mmedian\u001b[90m):    \u001b[39m0.00%\n",
       " Time  \u001b[90m(\u001b[39m\u001b[32m\u001b[1mmean\u001b[22m\u001b[39m ± \u001b[32mσ\u001b[39m\u001b[90m):   \u001b[39m\u001b[32m\u001b[1m707.947 μs\u001b[22m\u001b[39m ± \u001b[32m980.471 μs\u001b[39m  \u001b[90m┊\u001b[39m GC \u001b[90m(\u001b[39mmean ± σ\u001b[90m):  \u001b[39m6.32% ±  4.44%\n",
       "\n",
       "  \u001b[39m \u001b[39m \u001b[39m█\u001b[39m▂\u001b[39m▅\u001b[39m▂\u001b[34m \u001b[39m\u001b[39m \u001b[39m \u001b[39m \u001b[39m \u001b[39m \u001b[39m \u001b[32m \u001b[39m\u001b[39m \u001b[39m \u001b[39m \u001b[39m \u001b[39m \u001b[39m \u001b[39m \u001b[39m \u001b[39m \u001b[39m \u001b[39m \u001b[39m \u001b[39m \u001b[39m \u001b[39m \u001b[39m \u001b[39m \u001b[39m \u001b[39m \u001b[39m \u001b[39m \u001b[39m \u001b[39m \u001b[39m \u001b[39m \u001b[39m \u001b[39m \u001b[39m \u001b[39m \u001b[39m \u001b[39m \u001b[39m \u001b[39m \u001b[39m \u001b[39m \u001b[39m \u001b[39m \u001b[39m \u001b[39m \u001b[39m \u001b[39m \u001b[39m \u001b[39m \u001b[39m \u001b[39m \u001b[39m \u001b[39m \u001b[39m \u001b[39m \n",
       "  \u001b[39m▂\u001b[39m▅\u001b[39m█\u001b[39m█\u001b[39m█\u001b[39m█\u001b[34m█\u001b[39m\u001b[39m▇\u001b[39m▆\u001b[39m▇\u001b[39m▆\u001b[39m▅\u001b[39m▅\u001b[32m▄\u001b[39m\u001b[39m▃\u001b[39m▃\u001b[39m▃\u001b[39m▃\u001b[39m▃\u001b[39m▃\u001b[39m▂\u001b[39m▂\u001b[39m▂\u001b[39m▂\u001b[39m▂\u001b[39m▂\u001b[39m▂\u001b[39m▂\u001b[39m▂\u001b[39m▂\u001b[39m▂\u001b[39m▂\u001b[39m▂\u001b[39m▂\u001b[39m▂\u001b[39m▂\u001b[39m▂\u001b[39m▂\u001b[39m▂\u001b[39m▂\u001b[39m▂\u001b[39m▂\u001b[39m▂\u001b[39m▂\u001b[39m▂\u001b[39m▂\u001b[39m▂\u001b[39m▂\u001b[39m▂\u001b[39m▂\u001b[39m▂\u001b[39m▂\u001b[39m▂\u001b[39m▂\u001b[39m▂\u001b[39m▂\u001b[39m▂\u001b[39m▁\u001b[39m▂\u001b[39m▂\u001b[39m▂\u001b[39m \u001b[39m▃\n",
       "  580 μs\u001b[90m           Histogram: frequency by time\u001b[39m         1.19 ms \u001b[0m\u001b[1m<\u001b[22m\n",
       "\n",
       " Memory estimate\u001b[90m: \u001b[39m\u001b[33m360.54 KiB\u001b[39m, allocs estimate\u001b[90m: \u001b[39m\u001b[33m7200\u001b[39m."
      ]
     },
     "execution_count": 9,
     "metadata": {},
     "output_type": "execute_result"
    }
   ],
   "source": [
    "@benchmark petrajectories(initial_state, circuit, branch_weight=unity)"
   ]
  },
  {
   "cell_type": "code",
   "execution_count": 10,
   "metadata": {},
   "outputs": [
    {
     "data": {
      "text/plain": [
       "0.30870000000000000209472196532889398667975910939276218414306640625"
      ]
     },
     "execution_count": 10,
     "metadata": {},
     "output_type": "execute_result"
    }
   ],
   "source": [
    "# How to evaluate numerically\n",
    "pe_symbolic[true_success_stat](0.1)"
   ]
  },
  {
   "cell_type": "markdown",
   "metadata": {},
   "source": [
    "## If you want to use `SymPy`"
   ]
  },
  {
   "cell_type": "code",
   "execution_count": 11,
   "metadata": {},
   "outputs": [],
   "source": [
    "using SymPy\n",
    "e = Sym(\"e\")\n",
    "unity = Sym(1);"
   ]
  },
  {
   "cell_type": "code",
   "execution_count": 12,
   "metadata": {},
   "outputs": [
    {
     "data": {
      "text/plain": [
       "Dict{QuantumClifford.Experimental.NoisyCircuits.CircuitStatus, Sym} with 3 entries:\n",
       "  failure:CircuitStatus(3)       => 4.0*e*(1 - 3*e)^3\n",
       "  false_success:CircuitStatus(2) => 6.0*e*(1 - 3*e)^3\n",
       "  true_success:CircuitStatus(1)  => 2.0*e*(1 - 3*e)^3 + 1.0*(1 - 3*e)^4"
      ]
     },
     "execution_count": 12,
     "metadata": {},
     "output_type": "execute_result"
    }
   ],
   "source": [
    "good_bell_state = S\"XX\n",
    "                    ZZ\"\n",
    "canonicalize_rref!(good_bell_state)\n",
    "initial_state = MixedDestabilizer(good_bell_state⊗good_bell_state)\n",
    "\n",
    "g1 = sCNOT(1,3) # CNOT between qubit 1 and qubit 3 (both with Alice)\n",
    "g2 = sCNOT(2,4) # CNOT between qubit 2 and qubit 4 (both with Bob)\n",
    "m = BellMeasurement([sMX(3),sMX(4)]) # Bell measurement on qubit 3 and 4\n",
    "v = VerifyOp(good_bell_state,[1,2]) # Verify that qubit 1 and 2 indeed form a good Bell pair\n",
    "epsilon = e # The error rate\n",
    "n = NoiseOpAll(UnbiasedUncorrelatedNoise(epsilon))\n",
    "\n",
    "# This circuit performs a depolarization at rate `epsilon` to all qubits,\n",
    "# then bilater CNOT operations\n",
    "# then a Bell measurement\n",
    "# followed by checking whether the final result indeed corresponds to the correct Bell pair.\n",
    "circuit = [n,g1,g2,m,v]\n",
    "\n",
    "pe_symbolic = petrajectories(initial_state, circuit, branch_weight=unity) # perturbative expansion"
   ]
  },
  {
   "cell_type": "code",
   "execution_count": 13,
   "metadata": {},
   "outputs": [
    {
     "data": {
      "text/plain": [
       "BenchmarkTools.Trial: 901 samples with 1 evaluation.\n",
       " Range \u001b[90m(\u001b[39m\u001b[36m\u001b[1mmin\u001b[22m\u001b[39m … \u001b[35mmax\u001b[39m\u001b[90m):  \u001b[39m\u001b[36m\u001b[1m4.720 ms\u001b[22m\u001b[39m … \u001b[35m150.118 ms\u001b[39m  \u001b[90m┊\u001b[39m GC \u001b[90m(\u001b[39mmin … max\u001b[90m): \u001b[39m0.00% … 51.46%\n",
       " Time  \u001b[90m(\u001b[39m\u001b[34m\u001b[1mmedian\u001b[22m\u001b[39m\u001b[90m):     \u001b[39m\u001b[34m\u001b[1m5.201 ms               \u001b[22m\u001b[39m\u001b[90m┊\u001b[39m GC \u001b[90m(\u001b[39mmedian\u001b[90m):    \u001b[39m0.00%\n",
       " Time  \u001b[90m(\u001b[39m\u001b[32m\u001b[1mmean\u001b[22m\u001b[39m ± \u001b[32mσ\u001b[39m\u001b[90m):   \u001b[39m\u001b[32m\u001b[1m5.540 ms\u001b[22m\u001b[39m ± \u001b[32m  5.012 ms\u001b[39m  \u001b[90m┊\u001b[39m GC \u001b[90m(\u001b[39mmean ± σ\u001b[90m):  \u001b[39m1.55% ±  1.71%\n",
       "\n",
       "  \u001b[39m \u001b[39m \u001b[39m \u001b[39m \u001b[39m \u001b[39m \u001b[39m \u001b[39m \u001b[39m \u001b[39m█\u001b[39m▆\u001b[39m \u001b[39m \u001b[34m \u001b[39m\u001b[39m \u001b[39m \u001b[39m \u001b[39m \u001b[39m \u001b[39m \u001b[39m \u001b[39m \u001b[32m \u001b[39m\u001b[39m \u001b[39m \u001b[39m \u001b[39m \u001b[39m \u001b[39m \u001b[39m \u001b[39m \u001b[39m \u001b[39m \u001b[39m \u001b[39m \u001b[39m \u001b[39m \u001b[39m \u001b[39m \u001b[39m \u001b[39m \u001b[39m \u001b[39m \u001b[39m \u001b[39m \u001b[39m \u001b[39m \u001b[39m \u001b[39m \u001b[39m \u001b[39m \u001b[39m \u001b[39m \u001b[39m \u001b[39m \u001b[39m \u001b[39m \u001b[39m \u001b[39m \u001b[39m \u001b[39m \n",
       "  \u001b[39m▂\u001b[39m▂\u001b[39m▅\u001b[39m▅\u001b[39m▇\u001b[39m▆\u001b[39m█\u001b[39m▇\u001b[39m▇\u001b[39m█\u001b[39m█\u001b[39m█\u001b[39m█\u001b[34m▇\u001b[39m\u001b[39m█\u001b[39m█\u001b[39m▇\u001b[39m█\u001b[39m▆\u001b[39m▆\u001b[39m▅\u001b[39m▄\u001b[32m▄\u001b[39m\u001b[39m▅\u001b[39m▄\u001b[39m▃\u001b[39m▃\u001b[39m▄\u001b[39m▃\u001b[39m▃\u001b[39m▃\u001b[39m▃\u001b[39m▄\u001b[39m▃\u001b[39m▃\u001b[39m▂\u001b[39m▂\u001b[39m▃\u001b[39m▃\u001b[39m▃\u001b[39m▃\u001b[39m▂\u001b[39m▂\u001b[39m▂\u001b[39m▁\u001b[39m▂\u001b[39m▂\u001b[39m▁\u001b[39m▂\u001b[39m▂\u001b[39m▂\u001b[39m▁\u001b[39m▂\u001b[39m▂\u001b[39m▁\u001b[39m▁\u001b[39m▁\u001b[39m▁\u001b[39m▂\u001b[39m \u001b[39m▃\n",
       "  4.72 ms\u001b[90m         Histogram: frequency by time\u001b[39m        6.92 ms \u001b[0m\u001b[1m<\u001b[22m\n",
       "\n",
       " Memory estimate\u001b[90m: \u001b[39m\u001b[33m226.44 KiB\u001b[39m, allocs estimate\u001b[90m: \u001b[39m\u001b[33m5574\u001b[39m."
      ]
     },
     "execution_count": 13,
     "metadata": {},
     "output_type": "execute_result"
    }
   ],
   "source": [
    "@benchmark petrajectories(initial_state, circuit, branch_weight=unity)"
   ]
  },
  {
   "cell_type": "code",
   "execution_count": 14,
   "metadata": {},
   "outputs": [
    {
     "data": {
      "text/latex": [
       "$0.3087$"
      ],
      "text/plain": [
       "0.308700000000000"
      ]
     },
     "execution_count": 14,
     "metadata": {},
     "output_type": "execute_result"
    }
   ],
   "source": [
    "# How to evaluate numerically\n",
    "pe_symbolic[true_success_stat].subs(e,0.1)"
   ]
  },
  {
   "cell_type": "markdown",
   "metadata": {},
   "source": [
    "## Comparison to numeric result"
   ]
  },
  {
   "cell_type": "code",
   "execution_count": 15,
   "metadata": {},
   "outputs": [
    {
     "data": {
      "text/latex": [
       "$2.0 e \\left(1 - 3 e\\right)^{3} + 1.0 \\left(1 - 3 e\\right)^{4}$"
      ],
      "text/plain": [
       "               3                4\n",
       "2.0⋅e⋅(1 - 3⋅e)  + 1.0⋅(1 - 3⋅e) "
      ]
     },
     "execution_count": 15,
     "metadata": {},
     "output_type": "execute_result"
    }
   ],
   "source": [
    "true_success_symbolic = pe_symbolic[true_success_stat]"
   ]
  },
  {
   "cell_type": "code",
   "execution_count": 16,
   "metadata": {},
   "outputs": [
    {
     "data": {
      "image/svg+xml": [
       "<?xml version=\"1.0\" encoding=\"utf-8\"?>\n",
       "<svg xmlns=\"http://www.w3.org/2000/svg\" xmlns:xlink=\"http://www.w3.org/1999/xlink\" width=\"600\" height=\"400\" viewBox=\"0 0 2400 1600\">\n",
       "<defs>\n",
       "  <clipPath id=\"clip550\">\n",
       "    <rect x=\"0\" y=\"0\" width=\"2400\" height=\"1600\"/>\n",
       "  </clipPath>\n",
       "</defs>\n",
       "<path clip-path=\"url(#clip550)\" d=\"\n",
       "M0 1600 L2400 1600 L2400 0 L0 0  Z\n",
       "  \" fill=\"#ffffff\" fill-rule=\"evenodd\" fill-opacity=\"1\"/>\n",
       "<defs>\n",
       "  <clipPath id=\"clip551\">\n",
       "    <rect x=\"480\" y=\"0\" width=\"1681\" height=\"1600\"/>\n",
       "  </clipPath>\n",
       "</defs>\n",
       "<path clip-path=\"url(#clip550)\" d=\"\n",
       "M219.866 1423.18 L2352.76 1423.18 L2352.76 123.472 L219.866 123.472  Z\n",
       "  \" fill=\"#ffffff\" fill-rule=\"evenodd\" fill-opacity=\"1\"/>\n",
       "<defs>\n",
       "  <clipPath id=\"clip552\">\n",
       "    <rect x=\"219\" y=\"123\" width=\"2134\" height=\"1301\"/>\n",
       "  </clipPath>\n",
       "</defs>\n",
       "<polyline clip-path=\"url(#clip552)\" style=\"stroke:#000000; stroke-linecap:butt; stroke-linejoin:round; stroke-width:2; stroke-opacity:0.1; fill:none\" points=\"\n",
       "  280.231,1423.18 280.231,123.472 \n",
       "  \"/>\n",
       "<polyline clip-path=\"url(#clip552)\" style=\"stroke:#000000; stroke-linecap:butt; stroke-linejoin:round; stroke-width:2; stroke-opacity:0.1; fill:none\" points=\"\n",
       "  783.271,1423.18 783.271,123.472 \n",
       "  \"/>\n",
       "<polyline clip-path=\"url(#clip552)\" style=\"stroke:#000000; stroke-linecap:butt; stroke-linejoin:round; stroke-width:2; stroke-opacity:0.1; fill:none\" points=\"\n",
       "  1286.31,1423.18 1286.31,123.472 \n",
       "  \"/>\n",
       "<polyline clip-path=\"url(#clip552)\" style=\"stroke:#000000; stroke-linecap:butt; stroke-linejoin:round; stroke-width:2; stroke-opacity:0.1; fill:none\" points=\"\n",
       "  1789.35,1423.18 1789.35,123.472 \n",
       "  \"/>\n",
       "<polyline clip-path=\"url(#clip552)\" style=\"stroke:#000000; stroke-linecap:butt; stroke-linejoin:round; stroke-width:2; stroke-opacity:0.1; fill:none\" points=\"\n",
       "  2292.39,1423.18 2292.39,123.472 \n",
       "  \"/>\n",
       "<polyline clip-path=\"url(#clip550)\" style=\"stroke:#000000; stroke-linecap:butt; stroke-linejoin:round; stroke-width:4; stroke-opacity:1; fill:none\" points=\"\n",
       "  219.866,1423.18 2352.76,1423.18 \n",
       "  \"/>\n",
       "<polyline clip-path=\"url(#clip550)\" style=\"stroke:#000000; stroke-linecap:butt; stroke-linejoin:round; stroke-width:4; stroke-opacity:1; fill:none\" points=\"\n",
       "  280.231,1423.18 280.231,1404.28 \n",
       "  \"/>\n",
       "<polyline clip-path=\"url(#clip550)\" style=\"stroke:#000000; stroke-linecap:butt; stroke-linejoin:round; stroke-width:4; stroke-opacity:1; fill:none\" points=\"\n",
       "  783.271,1423.18 783.271,1404.28 \n",
       "  \"/>\n",
       "<polyline clip-path=\"url(#clip550)\" style=\"stroke:#000000; stroke-linecap:butt; stroke-linejoin:round; stroke-width:4; stroke-opacity:1; fill:none\" points=\"\n",
       "  1286.31,1423.18 1286.31,1404.28 \n",
       "  \"/>\n",
       "<polyline clip-path=\"url(#clip550)\" style=\"stroke:#000000; stroke-linecap:butt; stroke-linejoin:round; stroke-width:4; stroke-opacity:1; fill:none\" points=\"\n",
       "  1789.35,1423.18 1789.35,1404.28 \n",
       "  \"/>\n",
       "<polyline clip-path=\"url(#clip550)\" style=\"stroke:#000000; stroke-linecap:butt; stroke-linejoin:round; stroke-width:4; stroke-opacity:1; fill:none\" points=\"\n",
       "  2292.39,1423.18 2292.39,1404.28 \n",
       "  \"/>\n",
       "<path clip-path=\"url(#clip550)\" d=\"M227.454 1454.1 Q223.842 1454.1 222.014 1457.66 Q220.208 1461.2 220.208 1468.33 Q220.208 1475.44 222.014 1479.01 Q223.842 1482.55 227.454 1482.55 Q231.088 1482.55 232.893 1479.01 Q234.722 1475.44 234.722 1468.33 Q234.722 1461.2 232.893 1457.66 Q231.088 1454.1 227.454 1454.1 M227.454 1450.39 Q233.264 1450.39 236.319 1455 Q239.398 1459.58 239.398 1468.33 Q239.398 1477.06 236.319 1481.67 Q233.264 1486.25 227.454 1486.25 Q221.643 1486.25 218.565 1481.67 Q215.509 1477.06 215.509 1468.33 Q215.509 1459.58 218.565 1455 Q221.643 1450.39 227.454 1450.39 Z\" fill=\"#000000\" fill-rule=\"evenodd\" fill-opacity=\"1\" /><path clip-path=\"url(#clip550)\" d=\"M247.616 1479.7 L252.5 1479.7 L252.5 1485.58 L247.616 1485.58 L247.616 1479.7 Z\" fill=\"#000000\" fill-rule=\"evenodd\" fill-opacity=\"1\" /><path clip-path=\"url(#clip550)\" d=\"M272.685 1454.1 Q269.074 1454.1 267.245 1457.66 Q265.439 1461.2 265.439 1468.33 Q265.439 1475.44 267.245 1479.01 Q269.074 1482.55 272.685 1482.55 Q276.319 1482.55 278.125 1479.01 Q279.953 1475.44 279.953 1468.33 Q279.953 1461.2 278.125 1457.66 Q276.319 1454.1 272.685 1454.1 M272.685 1450.39 Q278.495 1450.39 281.551 1455 Q284.629 1459.58 284.629 1468.33 Q284.629 1477.06 281.551 1481.67 Q278.495 1486.25 272.685 1486.25 Q266.875 1486.25 263.796 1481.67 Q260.74 1477.06 260.74 1468.33 Q260.74 1459.58 263.796 1455 Q266.875 1450.39 272.685 1450.39 Z\" fill=\"#000000\" fill-rule=\"evenodd\" fill-opacity=\"1\" /><path clip-path=\"url(#clip550)\" d=\"M302.847 1454.1 Q299.236 1454.1 297.407 1457.66 Q295.601 1461.2 295.601 1468.33 Q295.601 1475.44 297.407 1479.01 Q299.236 1482.55 302.847 1482.55 Q306.481 1482.55 308.286 1479.01 Q310.115 1475.44 310.115 1468.33 Q310.115 1461.2 308.286 1457.66 Q306.481 1454.1 302.847 1454.1 M302.847 1450.39 Q308.657 1450.39 311.712 1455 Q314.791 1459.58 314.791 1468.33 Q314.791 1477.06 311.712 1481.67 Q308.657 1486.25 302.847 1486.25 Q297.037 1486.25 293.958 1481.67 Q290.902 1477.06 290.902 1468.33 Q290.902 1459.58 293.958 1455 Q297.037 1450.39 302.847 1450.39 Z\" fill=\"#000000\" fill-rule=\"evenodd\" fill-opacity=\"1\" /><path clip-path=\"url(#clip550)\" d=\"M333.009 1454.1 Q329.397 1454.1 327.569 1457.66 Q325.763 1461.2 325.763 1468.33 Q325.763 1475.44 327.569 1479.01 Q329.397 1482.55 333.009 1482.55 Q336.643 1482.55 338.448 1479.01 Q340.277 1475.44 340.277 1468.33 Q340.277 1461.2 338.448 1457.66 Q336.643 1454.1 333.009 1454.1 M333.009 1450.39 Q338.819 1450.39 341.874 1455 Q344.953 1459.58 344.953 1468.33 Q344.953 1477.06 341.874 1481.67 Q338.819 1486.25 333.009 1486.25 Q327.198 1486.25 324.12 1481.67 Q321.064 1477.06 321.064 1468.33 Q321.064 1459.58 324.12 1455 Q327.198 1450.39 333.009 1450.39 Z\" fill=\"#000000\" fill-rule=\"evenodd\" fill-opacity=\"1\" /><path clip-path=\"url(#clip550)\" d=\"M730.991 1454.1 Q727.38 1454.1 725.551 1457.66 Q723.746 1461.2 723.746 1468.33 Q723.746 1475.44 725.551 1479.01 Q727.38 1482.55 730.991 1482.55 Q734.626 1482.55 736.431 1479.01 Q738.26 1475.44 738.26 1468.33 Q738.26 1461.2 736.431 1457.66 Q734.626 1454.1 730.991 1454.1 M730.991 1450.39 Q736.801 1450.39 739.857 1455 Q742.936 1459.58 742.936 1468.33 Q742.936 1477.06 739.857 1481.67 Q736.801 1486.25 730.991 1486.25 Q725.181 1486.25 722.102 1481.67 Q719.047 1477.06 719.047 1468.33 Q719.047 1459.58 722.102 1455 Q725.181 1450.39 730.991 1450.39 Z\" fill=\"#000000\" fill-rule=\"evenodd\" fill-opacity=\"1\" /><path clip-path=\"url(#clip550)\" d=\"M751.153 1479.7 L756.037 1479.7 L756.037 1485.58 L751.153 1485.58 L751.153 1479.7 Z\" fill=\"#000000\" fill-rule=\"evenodd\" fill-opacity=\"1\" /><path clip-path=\"url(#clip550)\" d=\"M776.223 1454.1 Q772.611 1454.1 770.783 1457.66 Q768.977 1461.2 768.977 1468.33 Q768.977 1475.44 770.783 1479.01 Q772.611 1482.55 776.223 1482.55 Q779.857 1482.55 781.662 1479.01 Q783.491 1475.44 783.491 1468.33 Q783.491 1461.2 781.662 1457.66 Q779.857 1454.1 776.223 1454.1 M776.223 1450.39 Q782.033 1450.39 785.088 1455 Q788.167 1459.58 788.167 1468.33 Q788.167 1477.06 785.088 1481.67 Q782.033 1486.25 776.223 1486.25 Q770.412 1486.25 767.334 1481.67 Q764.278 1477.06 764.278 1468.33 Q764.278 1459.58 767.334 1455 Q770.412 1450.39 776.223 1450.39 Z\" fill=\"#000000\" fill-rule=\"evenodd\" fill-opacity=\"1\" /><path clip-path=\"url(#clip550)\" d=\"M800.412 1481.64 L816.732 1481.64 L816.732 1485.58 L794.787 1485.58 L794.787 1481.64 Q797.449 1478.89 802.033 1474.26 Q806.639 1469.61 807.82 1468.27 Q810.065 1465.74 810.945 1464.01 Q811.847 1462.25 811.847 1460.56 Q811.847 1457.8 809.903 1456.07 Q807.982 1454.33 804.88 1454.33 Q802.681 1454.33 800.227 1455.09 Q797.796 1455.86 795.019 1457.41 L795.019 1452.69 Q797.843 1451.55 800.296 1450.97 Q802.75 1450.39 804.787 1450.39 Q810.158 1450.39 813.352 1453.08 Q816.546 1455.77 816.546 1460.26 Q816.546 1462.39 815.736 1464.31 Q814.949 1466.2 812.843 1468.8 Q812.264 1469.47 809.162 1472.69 Q806.06 1475.88 800.412 1481.64 Z\" fill=\"#000000\" fill-rule=\"evenodd\" fill-opacity=\"1\" /><path clip-path=\"url(#clip550)\" d=\"M826.593 1451.02 L844.949 1451.02 L844.949 1454.96 L830.875 1454.96 L830.875 1463.43 Q831.894 1463.08 832.912 1462.92 Q833.931 1462.73 834.949 1462.73 Q840.736 1462.73 844.116 1465.9 Q847.495 1469.08 847.495 1474.49 Q847.495 1480.07 844.023 1483.17 Q840.551 1486.25 834.231 1486.25 Q832.056 1486.25 829.787 1485.88 Q827.542 1485.51 825.134 1484.77 L825.134 1480.07 Q827.218 1481.2 829.44 1481.76 Q831.662 1482.32 834.139 1482.32 Q838.143 1482.32 840.481 1480.21 Q842.819 1478.1 842.819 1474.49 Q842.819 1470.88 840.481 1468.77 Q838.143 1466.67 834.139 1466.67 Q832.264 1466.67 830.389 1467.08 Q828.537 1467.5 826.593 1468.38 L826.593 1451.02 Z\" fill=\"#000000\" fill-rule=\"evenodd\" fill-opacity=\"1\" /><path clip-path=\"url(#clip550)\" d=\"M1233.53 1454.1 Q1229.92 1454.1 1228.09 1457.66 Q1226.29 1461.2 1226.29 1468.33 Q1226.29 1475.44 1228.09 1479.01 Q1229.92 1482.55 1233.53 1482.55 Q1237.17 1482.55 1238.97 1479.01 Q1240.8 1475.44 1240.8 1468.33 Q1240.8 1461.2 1238.97 1457.66 Q1237.17 1454.1 1233.53 1454.1 M1233.53 1450.39 Q1239.34 1450.39 1242.4 1455 Q1245.48 1459.58 1245.48 1468.33 Q1245.48 1477.06 1242.4 1481.67 Q1239.34 1486.25 1233.53 1486.25 Q1227.72 1486.25 1224.64 1481.67 Q1221.59 1477.06 1221.59 1468.33 Q1221.59 1459.58 1224.64 1455 Q1227.72 1450.39 1233.53 1450.39 Z\" fill=\"#000000\" fill-rule=\"evenodd\" fill-opacity=\"1\" /><path clip-path=\"url(#clip550)\" d=\"M1253.7 1479.7 L1258.58 1479.7 L1258.58 1485.58 L1253.7 1485.58 L1253.7 1479.7 Z\" fill=\"#000000\" fill-rule=\"evenodd\" fill-opacity=\"1\" /><path clip-path=\"url(#clip550)\" d=\"M1278.76 1454.1 Q1275.15 1454.1 1273.33 1457.66 Q1271.52 1461.2 1271.52 1468.33 Q1271.52 1475.44 1273.33 1479.01 Q1275.15 1482.55 1278.76 1482.55 Q1282.4 1482.55 1284.2 1479.01 Q1286.03 1475.44 1286.03 1468.33 Q1286.03 1461.2 1284.2 1457.66 Q1282.4 1454.1 1278.76 1454.1 M1278.76 1450.39 Q1284.57 1450.39 1287.63 1455 Q1290.71 1459.58 1290.71 1468.33 Q1290.71 1477.06 1287.63 1481.67 Q1284.57 1486.25 1278.76 1486.25 Q1272.95 1486.25 1269.88 1481.67 Q1266.82 1477.06 1266.82 1468.33 Q1266.82 1459.58 1269.88 1455 Q1272.95 1450.39 1278.76 1450.39 Z\" fill=\"#000000\" fill-rule=\"evenodd\" fill-opacity=\"1\" /><path clip-path=\"url(#clip550)\" d=\"M1298.97 1451.02 L1317.33 1451.02 L1317.33 1454.96 L1303.26 1454.96 L1303.26 1463.43 Q1304.27 1463.08 1305.29 1462.92 Q1306.31 1462.73 1307.33 1462.73 Q1313.12 1462.73 1316.5 1465.9 Q1319.88 1469.08 1319.88 1474.49 Q1319.88 1480.07 1316.4 1483.17 Q1312.93 1486.25 1306.61 1486.25 Q1304.44 1486.25 1302.17 1485.88 Q1299.92 1485.51 1297.51 1484.77 L1297.51 1480.07 Q1299.6 1481.2 1301.82 1481.76 Q1304.04 1482.32 1306.52 1482.32 Q1310.52 1482.32 1312.86 1480.21 Q1315.2 1478.1 1315.2 1474.49 Q1315.2 1470.88 1312.86 1468.77 Q1310.52 1466.67 1306.52 1466.67 Q1304.64 1466.67 1302.77 1467.08 Q1300.92 1467.5 1298.97 1468.38 L1298.97 1451.02 Z\" fill=\"#000000\" fill-rule=\"evenodd\" fill-opacity=\"1\" /><path clip-path=\"url(#clip550)\" d=\"M1339.09 1454.1 Q1335.48 1454.1 1333.65 1457.66 Q1331.84 1461.2 1331.84 1468.33 Q1331.84 1475.44 1333.65 1479.01 Q1335.48 1482.55 1339.09 1482.55 Q1342.72 1482.55 1344.53 1479.01 Q1346.36 1475.44 1346.36 1468.33 Q1346.36 1461.2 1344.53 1457.66 Q1342.72 1454.1 1339.09 1454.1 M1339.09 1450.39 Q1344.9 1450.39 1347.95 1455 Q1351.03 1459.58 1351.03 1468.33 Q1351.03 1477.06 1347.95 1481.67 Q1344.9 1486.25 1339.09 1486.25 Q1333.28 1486.25 1330.2 1481.67 Q1327.14 1477.06 1327.14 1468.33 Q1327.14 1459.58 1330.2 1455 Q1333.28 1450.39 1339.09 1450.39 Z\" fill=\"#000000\" fill-rule=\"evenodd\" fill-opacity=\"1\" /><path clip-path=\"url(#clip550)\" d=\"M1737.07 1454.1 Q1733.46 1454.1 1731.63 1457.66 Q1729.83 1461.2 1729.83 1468.33 Q1729.83 1475.44 1731.63 1479.01 Q1733.46 1482.55 1737.07 1482.55 Q1740.71 1482.55 1742.51 1479.01 Q1744.34 1475.44 1744.34 1468.33 Q1744.34 1461.2 1742.51 1457.66 Q1740.71 1454.1 1737.07 1454.1 M1737.07 1450.39 Q1742.88 1450.39 1745.94 1455 Q1749.02 1459.58 1749.02 1468.33 Q1749.02 1477.06 1745.94 1481.67 Q1742.88 1486.25 1737.07 1486.25 Q1731.26 1486.25 1728.18 1481.67 Q1725.13 1477.06 1725.13 1468.33 Q1725.13 1459.58 1728.18 1455 Q1731.26 1450.39 1737.07 1450.39 Z\" fill=\"#000000\" fill-rule=\"evenodd\" fill-opacity=\"1\" /><path clip-path=\"url(#clip550)\" d=\"M1757.23 1479.7 L1762.12 1479.7 L1762.12 1485.58 L1757.23 1485.58 L1757.23 1479.7 Z\" fill=\"#000000\" fill-rule=\"evenodd\" fill-opacity=\"1\" /><path clip-path=\"url(#clip550)\" d=\"M1782.3 1454.1 Q1778.69 1454.1 1776.86 1457.66 Q1775.06 1461.2 1775.06 1468.33 Q1775.06 1475.44 1776.86 1479.01 Q1778.69 1482.55 1782.3 1482.55 Q1785.94 1482.55 1787.74 1479.01 Q1789.57 1475.44 1789.57 1468.33 Q1789.57 1461.2 1787.74 1457.66 Q1785.94 1454.1 1782.3 1454.1 M1782.3 1450.39 Q1788.11 1450.39 1791.17 1455 Q1794.25 1459.58 1794.25 1468.33 Q1794.25 1477.06 1791.17 1481.67 Q1788.11 1486.25 1782.3 1486.25 Q1776.49 1486.25 1773.41 1481.67 Q1770.36 1477.06 1770.36 1468.33 Q1770.36 1459.58 1773.41 1455 Q1776.49 1450.39 1782.3 1450.39 Z\" fill=\"#000000\" fill-rule=\"evenodd\" fill-opacity=\"1\" /><path clip-path=\"url(#clip550)\" d=\"M1801.28 1451.02 L1823.51 1451.02 L1823.51 1453.01 L1810.96 1485.58 L1806.08 1485.58 L1817.88 1454.96 L1801.28 1454.96 L1801.28 1451.02 Z\" fill=\"#000000\" fill-rule=\"evenodd\" fill-opacity=\"1\" /><path clip-path=\"url(#clip550)\" d=\"M1832.67 1451.02 L1851.03 1451.02 L1851.03 1454.96 L1836.96 1454.96 L1836.96 1463.43 Q1837.97 1463.08 1838.99 1462.92 Q1840.01 1462.73 1841.03 1462.73 Q1846.82 1462.73 1850.2 1465.9 Q1853.58 1469.08 1853.58 1474.49 Q1853.58 1480.07 1850.1 1483.17 Q1846.63 1486.25 1840.31 1486.25 Q1838.14 1486.25 1835.87 1485.88 Q1833.62 1485.51 1831.21 1484.77 L1831.21 1480.07 Q1833.3 1481.2 1835.52 1481.76 Q1837.74 1482.32 1840.22 1482.32 Q1844.22 1482.32 1846.56 1480.21 Q1848.9 1478.1 1848.9 1474.49 Q1848.9 1470.88 1846.56 1468.77 Q1844.22 1466.67 1840.22 1466.67 Q1838.34 1466.67 1836.47 1467.08 Q1834.62 1467.5 1832.67 1468.38 L1832.67 1451.02 Z\" fill=\"#000000\" fill-rule=\"evenodd\" fill-opacity=\"1\" /><path clip-path=\"url(#clip550)\" d=\"M2239.61 1454.1 Q2236 1454.1 2234.17 1457.66 Q2232.37 1461.2 2232.37 1468.33 Q2232.37 1475.44 2234.17 1479.01 Q2236 1482.55 2239.61 1482.55 Q2243.25 1482.55 2245.05 1479.01 Q2246.88 1475.44 2246.88 1468.33 Q2246.88 1461.2 2245.05 1457.66 Q2243.25 1454.1 2239.61 1454.1 M2239.61 1450.39 Q2245.42 1450.39 2248.48 1455 Q2251.56 1459.58 2251.56 1468.33 Q2251.56 1477.06 2248.48 1481.67 Q2245.42 1486.25 2239.61 1486.25 Q2233.8 1486.25 2230.72 1481.67 Q2227.67 1477.06 2227.67 1468.33 Q2227.67 1459.58 2230.72 1455 Q2233.8 1450.39 2239.61 1450.39 Z\" fill=\"#000000\" fill-rule=\"evenodd\" fill-opacity=\"1\" /><path clip-path=\"url(#clip550)\" d=\"M2259.78 1479.7 L2264.66 1479.7 L2264.66 1485.58 L2259.78 1485.58 L2259.78 1479.7 Z\" fill=\"#000000\" fill-rule=\"evenodd\" fill-opacity=\"1\" /><path clip-path=\"url(#clip550)\" d=\"M2275.66 1481.64 L2283.29 1481.64 L2283.29 1455.28 L2274.98 1456.95 L2274.98 1452.69 L2283.25 1451.02 L2287.92 1451.02 L2287.92 1481.64 L2295.56 1481.64 L2295.56 1485.58 L2275.66 1485.58 L2275.66 1481.64 Z\" fill=\"#000000\" fill-rule=\"evenodd\" fill-opacity=\"1\" /><path clip-path=\"url(#clip550)\" d=\"M2315.01 1454.1 Q2311.4 1454.1 2309.57 1457.66 Q2307.76 1461.2 2307.76 1468.33 Q2307.76 1475.44 2309.57 1479.01 Q2311.4 1482.55 2315.01 1482.55 Q2318.64 1482.55 2320.45 1479.01 Q2322.28 1475.44 2322.28 1468.33 Q2322.28 1461.2 2320.45 1457.66 Q2318.64 1454.1 2315.01 1454.1 M2315.01 1450.39 Q2320.82 1450.39 2323.87 1455 Q2326.95 1459.58 2326.95 1468.33 Q2326.95 1477.06 2323.87 1481.67 Q2320.82 1486.25 2315.01 1486.25 Q2309.2 1486.25 2306.12 1481.67 Q2303.06 1477.06 2303.06 1468.33 Q2303.06 1459.58 2306.12 1455 Q2309.2 1450.39 2315.01 1450.39 Z\" fill=\"#000000\" fill-rule=\"evenodd\" fill-opacity=\"1\" /><path clip-path=\"url(#clip550)\" d=\"M2345.17 1454.1 Q2341.56 1454.1 2339.73 1457.66 Q2337.92 1461.2 2337.92 1468.33 Q2337.92 1475.44 2339.73 1479.01 Q2341.56 1482.55 2345.17 1482.55 Q2348.8 1482.55 2350.61 1479.01 Q2352.44 1475.44 2352.44 1468.33 Q2352.44 1461.2 2350.61 1457.66 Q2348.8 1454.1 2345.17 1454.1 M2345.17 1450.39 Q2350.98 1450.39 2354.03 1455 Q2357.11 1459.58 2357.11 1468.33 Q2357.11 1477.06 2354.03 1481.67 Q2350.98 1486.25 2345.17 1486.25 Q2339.36 1486.25 2336.28 1481.67 Q2333.22 1477.06 2333.22 1468.33 Q2333.22 1459.58 2336.28 1455 Q2339.36 1450.39 2345.17 1450.39 Z\" fill=\"#000000\" fill-rule=\"evenodd\" fill-opacity=\"1\" /><path clip-path=\"url(#clip550)\" d=\"M1281.36 1548.82 Q1277.8 1548.06 1275.89 1545.99 Q1273.98 1543.95 1273.98 1540.99 Q1273.98 1536.5 1277.61 1533.99 Q1281.2 1531.5 1287.44 1531.5 Q1289.86 1531.5 1292.57 1531.89 Q1295.27 1532.27 1298.39 1533.03 L1298.39 1538.35 Q1295.3 1537.42 1292.76 1537.01 Q1290.18 1536.6 1287.92 1536.6 Q1284.13 1536.6 1281.93 1538.06 Q1279.71 1539.53 1279.71 1541.56 Q1279.71 1543.79 1281.87 1545.22 Q1284 1546.62 1287.7 1546.62 L1292.63 1546.62 L1292.63 1551.46 L1287.92 1551.46 Q1283.56 1551.46 1281.27 1553.08 Q1278.78 1554.87 1278.78 1557.67 Q1278.78 1560.53 1281.46 1562.31 Q1284.16 1564.1 1288.97 1564.1 Q1291.93 1564.1 1294.63 1563.52 Q1297.34 1562.92 1299.6 1561.74 L1299.6 1567.18 Q1296.73 1568.08 1294.06 1568.52 Q1291.36 1568.97 1288.81 1568.97 Q1281.23 1568.97 1277.13 1566.07 Q1273.02 1563.17 1273.02 1557.67 Q1273.02 1554.23 1275.22 1551.91 Q1277.42 1549.58 1281.36 1548.82 Z\" fill=\"#000000\" fill-rule=\"evenodd\" fill-opacity=\"1\" /><polyline clip-path=\"url(#clip552)\" style=\"stroke:#000000; stroke-linecap:butt; stroke-linejoin:round; stroke-width:2; stroke-opacity:0.1; fill:none\" points=\"\n",
       "  219.866,1224.46 2352.76,1224.46 \n",
       "  \"/>\n",
       "<polyline clip-path=\"url(#clip552)\" style=\"stroke:#000000; stroke-linecap:butt; stroke-linejoin:round; stroke-width:2; stroke-opacity:0.1; fill:none\" points=\"\n",
       "  219.866,869.725 2352.76,869.725 \n",
       "  \"/>\n",
       "<polyline clip-path=\"url(#clip552)\" style=\"stroke:#000000; stroke-linecap:butt; stroke-linejoin:round; stroke-width:2; stroke-opacity:0.1; fill:none\" points=\"\n",
       "  219.866,514.991 2352.76,514.991 \n",
       "  \"/>\n",
       "<polyline clip-path=\"url(#clip552)\" style=\"stroke:#000000; stroke-linecap:butt; stroke-linejoin:round; stroke-width:2; stroke-opacity:0.1; fill:none\" points=\"\n",
       "  219.866,160.256 2352.76,160.256 \n",
       "  \"/>\n",
       "<polyline clip-path=\"url(#clip550)\" style=\"stroke:#000000; stroke-linecap:butt; stroke-linejoin:round; stroke-width:4; stroke-opacity:1; fill:none\" points=\"\n",
       "  219.866,1423.18 219.866,123.472 \n",
       "  \"/>\n",
       "<polyline clip-path=\"url(#clip550)\" style=\"stroke:#000000; stroke-linecap:butt; stroke-linejoin:round; stroke-width:4; stroke-opacity:1; fill:none\" points=\"\n",
       "  219.866,1224.46 238.764,1224.46 \n",
       "  \"/>\n",
       "<polyline clip-path=\"url(#clip550)\" style=\"stroke:#000000; stroke-linecap:butt; stroke-linejoin:round; stroke-width:4; stroke-opacity:1; fill:none\" points=\"\n",
       "  219.866,869.725 238.764,869.725 \n",
       "  \"/>\n",
       "<polyline clip-path=\"url(#clip550)\" style=\"stroke:#000000; stroke-linecap:butt; stroke-linejoin:round; stroke-width:4; stroke-opacity:1; fill:none\" points=\"\n",
       "  219.866,514.991 238.764,514.991 \n",
       "  \"/>\n",
       "<polyline clip-path=\"url(#clip550)\" style=\"stroke:#000000; stroke-linecap:butt; stroke-linejoin:round; stroke-width:4; stroke-opacity:1; fill:none\" points=\"\n",
       "  219.866,160.256 238.764,160.256 \n",
       "  \"/>\n",
       "<path clip-path=\"url(#clip550)\" d=\"M126.205 1210.26 Q122.593 1210.26 120.765 1213.82 Q118.959 1217.36 118.959 1224.49 Q118.959 1231.6 120.765 1235.17 Q122.593 1238.71 126.205 1238.71 Q129.839 1238.71 131.644 1235.17 Q133.473 1231.6 133.473 1224.49 Q133.473 1217.36 131.644 1213.82 Q129.839 1210.26 126.205 1210.26 M126.205 1206.55 Q132.015 1206.55 135.07 1211.16 Q138.149 1215.74 138.149 1224.49 Q138.149 1233.22 135.07 1237.83 Q132.015 1242.41 126.205 1242.41 Q120.394 1242.41 117.316 1237.83 Q114.26 1233.22 114.26 1224.49 Q114.26 1215.74 117.316 1211.16 Q120.394 1206.55 126.205 1206.55 Z\" fill=\"#000000\" fill-rule=\"evenodd\" fill-opacity=\"1\" /><path clip-path=\"url(#clip550)\" d=\"M146.366 1235.86 L151.251 1235.86 L151.251 1241.74 L146.366 1241.74 L146.366 1235.86 Z\" fill=\"#000000\" fill-rule=\"evenodd\" fill-opacity=\"1\" /><path clip-path=\"url(#clip550)\" d=\"M174.283 1211.25 L162.477 1229.7 L174.283 1229.7 L174.283 1211.25 M173.056 1207.18 L178.936 1207.18 L178.936 1229.7 L183.866 1229.7 L183.866 1233.59 L178.936 1233.59 L178.936 1241.74 L174.283 1241.74 L174.283 1233.59 L158.681 1233.59 L158.681 1229.08 L173.056 1207.18 Z\" fill=\"#000000\" fill-rule=\"evenodd\" fill-opacity=\"1\" /><path clip-path=\"url(#clip550)\" d=\"M126.529 855.524 Q122.918 855.524 121.089 859.089 Q119.283 862.63 119.283 869.76 Q119.283 876.866 121.089 880.431 Q122.918 883.973 126.529 883.973 Q130.163 883.973 131.968 880.431 Q133.797 876.866 133.797 869.76 Q133.797 862.63 131.968 859.089 Q130.163 855.524 126.529 855.524 M126.529 851.82 Q132.339 851.82 135.394 856.427 Q138.473 861.01 138.473 869.76 Q138.473 878.487 135.394 883.093 Q132.339 887.676 126.529 887.676 Q120.718 887.676 117.64 883.093 Q114.584 878.487 114.584 869.76 Q114.584 861.01 117.64 856.427 Q120.718 851.82 126.529 851.82 Z\" fill=\"#000000\" fill-rule=\"evenodd\" fill-opacity=\"1\" /><path clip-path=\"url(#clip550)\" d=\"M146.691 881.125 L151.575 881.125 L151.575 887.005 L146.691 887.005 L146.691 881.125 Z\" fill=\"#000000\" fill-rule=\"evenodd\" fill-opacity=\"1\" /><path clip-path=\"url(#clip550)\" d=\"M172.339 867.862 Q169.19 867.862 167.339 870.014 Q165.51 872.167 165.51 875.917 Q165.51 879.644 167.339 881.82 Q169.19 883.973 172.339 883.973 Q175.487 883.973 177.315 881.82 Q179.167 879.644 179.167 875.917 Q179.167 872.167 177.315 870.014 Q175.487 867.862 172.339 867.862 M181.621 853.209 L181.621 857.468 Q179.862 856.635 178.056 856.195 Q176.274 855.755 174.514 855.755 Q169.885 855.755 167.431 858.88 Q165.001 862.005 164.653 868.325 Q166.019 866.311 168.079 865.246 Q170.139 864.158 172.616 864.158 Q177.825 864.158 180.834 867.329 Q183.866 870.477 183.866 875.917 Q183.866 881.241 180.718 884.459 Q177.57 887.676 172.339 887.676 Q166.343 887.676 163.172 883.093 Q160.001 878.487 160.001 869.76 Q160.001 861.565 163.89 856.704 Q167.778 851.82 174.329 851.82 Q176.089 851.82 177.871 852.167 Q179.676 852.514 181.621 853.209 Z\" fill=\"#000000\" fill-rule=\"evenodd\" fill-opacity=\"1\" /><path clip-path=\"url(#clip550)\" d=\"M126.783 500.789 Q123.172 500.789 121.343 504.354 Q119.538 507.896 119.538 515.025 Q119.538 522.132 121.343 525.697 Q123.172 529.238 126.783 529.238 Q130.417 529.238 132.223 525.697 Q134.052 522.132 134.052 515.025 Q134.052 507.896 132.223 504.354 Q130.417 500.789 126.783 500.789 M126.783 497.086 Q132.593 497.086 135.649 501.692 Q138.728 506.275 138.728 515.025 Q138.728 523.752 135.649 528.359 Q132.593 532.942 126.783 532.942 Q120.973 532.942 117.894 528.359 Q114.839 523.752 114.839 515.025 Q114.839 506.275 117.894 501.692 Q120.973 497.086 126.783 497.086 Z\" fill=\"#000000\" fill-rule=\"evenodd\" fill-opacity=\"1\" /><path clip-path=\"url(#clip550)\" d=\"M146.945 526.391 L151.829 526.391 L151.829 532.271 L146.945 532.271 L146.945 526.391 Z\" fill=\"#000000\" fill-rule=\"evenodd\" fill-opacity=\"1\" /><path clip-path=\"url(#clip550)\" d=\"M172.014 515.859 Q168.681 515.859 166.76 517.641 Q164.862 519.424 164.862 522.549 Q164.862 525.673 166.76 527.456 Q168.681 529.238 172.014 529.238 Q175.348 529.238 177.269 527.456 Q179.19 525.65 179.19 522.549 Q179.19 519.424 177.269 517.641 Q175.371 515.859 172.014 515.859 M167.339 513.868 Q164.329 513.127 162.64 511.067 Q160.973 509.007 160.973 506.044 Q160.973 501.9 163.913 499.493 Q166.876 497.086 172.014 497.086 Q177.176 497.086 180.116 499.493 Q183.056 501.9 183.056 506.044 Q183.056 509.007 181.366 511.067 Q179.7 513.127 176.714 513.868 Q180.093 514.655 181.968 516.947 Q183.866 519.238 183.866 522.549 Q183.866 527.572 180.788 530.257 Q177.732 532.942 172.014 532.942 Q166.297 532.942 163.218 530.257 Q160.163 527.572 160.163 522.549 Q160.163 519.238 162.061 516.947 Q163.959 514.655 167.339 513.868 M165.626 506.484 Q165.626 509.169 167.292 510.674 Q168.982 512.178 172.014 512.178 Q175.024 512.178 176.714 510.674 Q178.426 509.169 178.426 506.484 Q178.426 503.799 176.714 502.294 Q175.024 500.789 172.014 500.789 Q168.982 500.789 167.292 502.294 Q165.626 503.799 165.626 506.484 Z\" fill=\"#000000\" fill-rule=\"evenodd\" fill-opacity=\"1\" /><path clip-path=\"url(#clip550)\" d=\"M117.501 173.601 L125.14 173.601 L125.14 147.236 L116.83 148.902 L116.83 144.643 L125.093 142.976 L129.769 142.976 L129.769 173.601 L137.408 173.601 L137.408 177.536 L117.501 177.536 L117.501 173.601 Z\" fill=\"#000000\" fill-rule=\"evenodd\" fill-opacity=\"1\" /><path clip-path=\"url(#clip550)\" d=\"M146.853 171.657 L151.737 171.657 L151.737 177.536 L146.853 177.536 L146.853 171.657 Z\" fill=\"#000000\" fill-rule=\"evenodd\" fill-opacity=\"1\" /><path clip-path=\"url(#clip550)\" d=\"M171.922 146.055 Q168.311 146.055 166.482 149.62 Q164.677 153.161 164.677 160.291 Q164.677 167.397 166.482 170.962 Q168.311 174.504 171.922 174.504 Q175.556 174.504 177.362 170.962 Q179.19 167.397 179.19 160.291 Q179.19 153.161 177.362 149.62 Q175.556 146.055 171.922 146.055 M171.922 142.351 Q177.732 142.351 180.788 146.958 Q183.866 151.541 183.866 160.291 Q183.866 169.018 180.788 173.624 Q177.732 178.208 171.922 178.208 Q166.112 178.208 163.033 173.624 Q159.978 169.018 159.978 160.291 Q159.978 151.541 163.033 146.958 Q166.112 142.351 171.922 142.351 Z\" fill=\"#000000\" fill-rule=\"evenodd\" fill-opacity=\"1\" /><path clip-path=\"url(#clip550)\" d=\"M16.4842 1067.56 L16.4842 1027.37 L21.895 1027.37 L21.895 1044.23 L64.0042 1044.23 L64.0042 1050.7 L21.895 1050.7 L21.895 1067.56 L16.4842 1067.56 Z\" fill=\"#000000\" fill-rule=\"evenodd\" fill-opacity=\"1\" /><path clip-path=\"url(#clip550)\" d=\"M33.8307 1010.34 Q33.2578 1011.32 33.0032 1012.5 Q32.7167 1013.65 32.7167 1015.05 Q32.7167 1020.01 35.9632 1022.69 Q39.1779 1025.33 45.2253 1025.33 L64.0042 1025.33 L64.0042 1031.22 L28.3562 1031.22 L28.3562 1025.33 L33.8944 1025.33 Q30.6479 1023.48 29.0883 1020.52 Q27.4968 1017.56 27.4968 1013.33 Q27.4968 1012.72 27.5923 1011.99 Q27.656 1011.26 27.8151 1010.37 L33.8307 1010.34 Z\" fill=\"#000000\" fill-rule=\"evenodd\" fill-opacity=\"1\" /><path clip-path=\"url(#clip550)\" d=\"M49.9359 1004.8 L28.3562 1004.8 L28.3562 998.943 L49.7131 998.943 Q54.7739 998.943 57.3202 996.969 Q59.8346 994.996 59.8346 991.049 Q59.8346 986.307 56.8109 983.569 Q53.7872 980.8 48.5673 980.8 L28.3562 980.8 L28.3562 974.944 L64.0042 974.944 L64.0042 980.8 L58.5296 980.8 Q61.7762 982.933 63.3676 985.766 Q64.9272 988.566 64.9272 992.29 Q64.9272 998.433 61.1078 1001.62 Q57.2883 1004.8 49.9359 1004.8 M27.4968 990.062 L27.4968 990.062 Z\" fill=\"#000000\" fill-rule=\"evenodd\" fill-opacity=\"1\" /><path clip-path=\"url(#clip550)\" d=\"M44.7161 932.389 L47.5806 932.389 L47.5806 959.316 Q53.6281 958.934 56.8109 955.688 Q59.9619 952.409 59.9619 946.585 Q59.9619 943.211 59.1344 940.06 Q58.3069 936.877 56.6518 933.758 L62.1899 933.758 Q63.5267 936.909 64.227 940.219 Q64.9272 943.529 64.9272 946.935 Q64.9272 955.465 59.9619 960.462 Q54.9967 965.427 46.5303 965.427 Q37.7774 965.427 32.6531 960.716 Q27.4968 955.974 27.4968 947.953 Q27.4968 940.76 32.1438 936.59 Q36.7589 932.389 44.7161 932.389 M42.9973 938.246 Q38.1912 938.309 35.3266 940.951 Q32.4621 943.561 32.4621 947.89 Q32.4621 952.791 35.2312 955.751 Q38.0002 958.679 43.0292 959.125 L42.9973 938.246 Z\" fill=\"#000000\" fill-rule=\"evenodd\" fill-opacity=\"1\" /><path clip-path=\"url(#clip550)\" d=\"M18.0438 873.315 L24.314 873.315 Q22.5634 876.976 21.704 880.222 Q20.8447 883.469 20.8447 886.492 Q20.8447 891.744 22.8817 894.609 Q24.9187 897.441 28.6745 897.441 Q31.8255 897.441 33.4488 895.563 Q35.0402 893.654 36.0269 888.37 L36.8226 884.487 Q38.1912 877.294 41.6605 873.888 Q45.098 870.451 50.8908 870.451 Q57.7976 870.451 61.3624 875.098 Q64.9272 879.713 64.9272 888.657 Q64.9272 892.03 64.1633 895.85 Q63.3994 899.638 61.9035 903.712 L55.2831 903.712 Q57.4793 899.797 58.5933 896.041 Q59.7073 892.285 59.7073 888.657 Q59.7073 883.15 57.543 880.158 Q55.3786 877.167 51.3682 877.167 Q47.8671 877.167 45.8937 879.331 Q43.9204 881.463 42.9337 886.365 L42.1698 890.28 Q40.7375 897.473 37.682 900.688 Q34.6264 903.903 29.1837 903.903 Q22.8817 903.903 19.2532 899.478 Q15.6248 895.022 15.6248 887.224 Q15.6248 883.882 16.2295 880.413 Q16.8343 876.944 18.0438 873.315 Z\" fill=\"#000000\" fill-rule=\"evenodd\" fill-opacity=\"1\" /><path clip-path=\"url(#clip550)\" d=\"M49.9359 861.284 L28.3562 861.284 L28.3562 855.428 L49.7131 855.428 Q54.7739 855.428 57.3202 853.454 Q59.8346 851.481 59.8346 847.534 Q59.8346 842.792 56.8109 840.055 Q53.7872 837.285 48.5673 837.285 L28.3562 837.285 L28.3562 831.429 L64.0042 831.429 L64.0042 837.285 L58.5296 837.285 Q61.7762 839.418 63.3676 842.251 Q64.9272 845.052 64.9272 848.776 Q64.9272 854.918 61.1078 858.101 Q57.2883 861.284 49.9359 861.284 M27.4968 846.548 L27.4968 846.548 Z\" fill=\"#000000\" fill-rule=\"evenodd\" fill-opacity=\"1\" /><path clip-path=\"url(#clip550)\" d=\"M29.7248 793.712 L35.1993 793.712 Q33.8307 796.195 33.1623 798.709 Q32.4621 801.192 32.4621 803.738 Q32.4621 809.435 36.0905 812.586 Q39.6872 815.738 46.212 815.738 Q52.7369 815.738 56.3653 812.586 Q59.9619 809.435 59.9619 803.738 Q59.9619 801.192 59.2935 798.709 Q58.5933 796.195 57.2247 793.712 L62.6355 793.712 Q63.7814 796.163 64.3543 798.805 Q64.9272 801.415 64.9272 804.375 Q64.9272 812.427 59.8664 817.17 Q54.8057 821.912 46.212 821.912 Q37.491 821.912 32.4939 817.138 Q27.4968 812.332 27.4968 803.993 Q27.4968 801.287 28.0697 798.709 Q28.6108 796.131 29.7248 793.712 Z\" fill=\"#000000\" fill-rule=\"evenodd\" fill-opacity=\"1\" /><path clip-path=\"url(#clip550)\" d=\"M29.7248 757.873 L35.1993 757.873 Q33.8307 760.356 33.1623 762.87 Q32.4621 765.353 32.4621 767.899 Q32.4621 773.597 36.0905 776.748 Q39.6872 779.899 46.212 779.899 Q52.7369 779.899 56.3653 776.748 Q59.9619 773.597 59.9619 767.899 Q59.9619 765.353 59.2935 762.87 Q58.5933 760.356 57.2247 757.873 L62.6355 757.873 Q63.7814 760.324 64.3543 762.966 Q64.9272 765.576 64.9272 768.536 Q64.9272 776.588 59.8664 781.331 Q54.8057 786.073 46.212 786.073 Q37.491 786.073 32.4939 781.299 Q27.4968 776.493 27.4968 768.154 Q27.4968 765.448 28.0697 762.87 Q28.6108 760.292 29.7248 757.873 Z\" fill=\"#000000\" fill-rule=\"evenodd\" fill-opacity=\"1\" /><path clip-path=\"url(#clip550)\" d=\"M44.7161 717.196 L47.5806 717.196 L47.5806 744.123 Q53.6281 743.741 56.8109 740.495 Q59.9619 737.217 59.9619 731.392 Q59.9619 728.018 59.1344 724.867 Q58.3069 721.684 56.6518 718.565 L62.1899 718.565 Q63.5267 721.716 64.227 725.026 Q64.9272 728.336 64.9272 731.742 Q64.9272 740.272 59.9619 745.269 Q54.9967 750.234 46.5303 750.234 Q37.7774 750.234 32.6531 745.524 Q27.4968 740.781 27.4968 732.761 Q27.4968 725.567 32.1438 721.398 Q36.7589 717.196 44.7161 717.196 M42.9973 723.053 Q38.1912 723.116 35.3266 725.758 Q32.4621 728.368 32.4621 732.697 Q32.4621 737.598 35.2312 740.559 Q38.0002 743.487 43.0292 743.932 L42.9973 723.053 Z\" fill=\"#000000\" fill-rule=\"evenodd\" fill-opacity=\"1\" /><path clip-path=\"url(#clip550)\" d=\"M29.4065 684.859 L34.9447 684.859 Q33.6716 687.341 33.035 690.015 Q32.3984 692.688 32.3984 695.553 Q32.3984 699.913 33.7352 702.11 Q35.072 704.274 37.7456 704.274 Q39.7826 704.274 40.9603 702.714 Q42.1061 701.155 43.1565 696.444 L43.6021 694.439 Q44.9389 688.201 47.3897 685.591 Q49.8086 682.949 54.1691 682.949 Q59.1344 682.949 62.0308 686.896 Q64.9272 690.811 64.9272 697.685 Q64.9272 700.55 64.3543 703.669 Q63.8132 706.757 62.6992 710.194 L56.6518 710.194 Q58.3387 706.948 59.198 703.797 Q60.0256 700.646 60.0256 697.558 Q60.0256 693.42 58.6251 691.192 Q57.1929 688.964 54.6147 688.964 Q52.2276 688.964 50.9545 690.588 Q49.6813 692.179 48.5037 697.622 L48.0262 699.659 Q46.8804 705.102 44.5251 707.52 Q42.138 709.939 38.0002 709.939 Q32.9713 709.939 30.2341 706.375 Q27.4968 702.81 27.4968 696.253 Q27.4968 693.007 27.9743 690.142 Q28.4517 687.278 29.4065 684.859 Z\" fill=\"#000000\" fill-rule=\"evenodd\" fill-opacity=\"1\" /><path clip-path=\"url(#clip550)\" d=\"M29.4065 650.898 L34.9447 650.898 Q33.6716 653.38 33.035 656.054 Q32.3984 658.727 32.3984 661.592 Q32.3984 665.952 33.7352 668.149 Q35.072 670.313 37.7456 670.313 Q39.7826 670.313 40.9603 668.753 Q42.1061 667.194 43.1565 662.483 L43.6021 660.478 Q44.9389 654.24 47.3897 651.63 Q49.8086 648.988 54.1691 648.988 Q59.1344 648.988 62.0308 652.935 Q64.9272 656.849 64.9272 663.724 Q64.9272 666.589 64.3543 669.708 Q63.8132 672.796 62.6992 676.233 L56.6518 676.233 Q58.3387 672.987 59.198 669.836 Q60.0256 666.684 60.0256 663.597 Q60.0256 659.459 58.6251 657.231 Q57.1929 655.003 54.6147 655.003 Q52.2276 655.003 50.9545 656.627 Q49.6813 658.218 48.5037 663.661 L48.0262 665.698 Q46.8804 671.14 44.5251 673.559 Q42.138 675.978 38.0002 675.978 Q32.9713 675.978 30.2341 672.414 Q27.4968 668.849 27.4968 662.292 Q27.4968 659.046 27.9743 656.181 Q28.4517 653.316 29.4065 650.898 Z\" fill=\"#000000\" fill-rule=\"evenodd\" fill-opacity=\"1\" /><path clip-path=\"url(#clip550)\" d=\"M41.7242 596.152 Q42.4244 594.084 44.7161 592.142 Q47.0077 590.169 51.0181 588.195 L64.0042 581.67 L64.0042 588.577 L51.8138 594.657 Q47.0395 597.012 45.48 599.24 Q43.9204 601.436 43.9204 605.255 L43.9204 612.258 L64.0042 612.258 L64.0042 618.687 L16.4842 618.687 L16.4842 604.173 Q16.4842 596.025 19.8898 592.015 Q23.2955 588.004 30.1704 588.004 Q34.6582 588.004 37.6183 590.105 Q40.5784 592.174 41.7242 596.152 M21.7677 612.258 L38.6368 612.258 L38.6368 604.173 Q38.6368 599.526 36.5043 597.171 Q34.34 594.784 30.1704 594.784 Q26.0009 594.784 23.9002 597.171 Q21.7677 599.526 21.7677 604.173 L21.7677 612.258 Z\" fill=\"#000000\" fill-rule=\"evenodd\" fill-opacity=\"1\" /><path clip-path=\"url(#clip550)\" d=\"M46.0847 558.881 Q46.0847 565.979 47.7079 568.716 Q49.3312 571.454 53.2461 571.454 Q56.3653 571.454 58.2114 569.416 Q60.0256 567.348 60.0256 563.815 Q60.0256 558.945 56.5881 556.017 Q53.1188 553.057 47.3897 553.057 L46.0847 553.057 L46.0847 558.881 M43.6657 547.2 L64.0042 547.2 L64.0042 553.057 L58.5933 553.057 Q61.8398 555.062 63.3994 558.054 Q64.9272 561.046 64.9272 565.374 Q64.9272 570.849 61.8716 574.095 Q58.7843 577.31 53.6281 577.31 Q47.6125 577.31 44.5569 573.3 Q41.5014 569.257 41.5014 561.268 L41.5014 553.057 L40.9285 553.057 Q36.8862 553.057 34.6901 555.73 Q32.4621 558.372 32.4621 563.178 Q32.4621 566.234 33.1941 569.13 Q33.9262 572.026 35.3903 574.7 L29.9795 574.7 Q28.7381 571.485 28.1334 568.462 Q27.4968 565.438 27.4968 562.573 Q27.4968 554.839 31.5072 551.02 Q35.5176 547.2 43.6657 547.2 Z\" fill=\"#000000\" fill-rule=\"evenodd\" fill-opacity=\"1\" /><path clip-path=\"url(#clip550)\" d=\"M18.2347 529.344 L28.3562 529.344 L28.3562 517.281 L32.9077 517.281 L32.9077 529.344 L52.2594 529.344 Q56.6199 529.344 57.8613 528.167 Q59.1026 526.957 59.1026 523.297 L59.1026 517.281 L64.0042 517.281 L64.0042 523.297 Q64.0042 530.076 61.4897 532.655 Q58.9434 535.233 52.2594 535.233 L32.9077 535.233 L32.9077 539.529 L28.3562 539.529 L28.3562 535.233 L18.2347 535.233 L18.2347 529.344 Z\" fill=\"#000000\" fill-rule=\"evenodd\" fill-opacity=\"1\" /><path clip-path=\"url(#clip550)\" d=\"M44.7161 479.087 L47.5806 479.087 L47.5806 506.014 Q53.6281 505.632 56.8109 502.386 Q59.9619 499.107 59.9619 493.283 Q59.9619 489.909 59.1344 486.758 Q58.3069 483.575 56.6518 480.456 L62.1899 480.456 Q63.5267 483.607 64.227 486.917 Q64.9272 490.227 64.9272 493.633 Q64.9272 502.163 59.9619 507.16 Q54.9967 512.125 46.5303 512.125 Q37.7774 512.125 32.6531 507.415 Q27.4968 502.672 27.4968 494.651 Q27.4968 487.458 32.1438 483.288 Q36.7589 479.087 44.7161 479.087 M42.9973 484.944 Q38.1912 485.007 35.3266 487.649 Q32.4621 490.259 32.4621 494.588 Q32.4621 499.489 35.2312 502.449 Q38.0002 505.377 43.0292 505.823 L42.9973 484.944 Z\" fill=\"#000000\" fill-rule=\"evenodd\" fill-opacity=\"1\" /><path clip-path=\"url(#clip550)\" d=\"M362.583 12.096 L373.602 12.096 L400.419 62.6918 L400.419 12.096 L408.359 12.096 L408.359 72.576 L397.34 72.576 L370.523 21.9802 L370.523 72.576 L362.583 72.576 L362.583 12.096 Z\" fill=\"#000000\" fill-rule=\"evenodd\" fill-opacity=\"1\" /><path clip-path=\"url(#clip550)\" d=\"M423.55 54.671 L423.55 27.2059 L431.003 27.2059 L431.003 54.3874 Q431.003 60.8284 433.515 64.0691 Q436.026 67.2693 441.049 67.2693 Q447.085 67.2693 450.569 63.421 Q454.093 59.5726 454.093 52.9291 L454.093 27.2059 L461.547 27.2059 L461.547 72.576 L454.093 72.576 L454.093 65.6084 Q451.379 69.7404 447.774 71.7658 Q444.209 73.7508 439.47 73.7508 Q431.651 73.7508 427.6 68.8897 Q423.55 64.0286 423.55 54.671 M442.305 26.1121 L442.305 26.1121 Z\" fill=\"#000000\" fill-rule=\"evenodd\" fill-opacity=\"1\" /><path clip-path=\"url(#clip550)\" d=\"M512.224 35.9153 Q515.019 30.8922 518.908 28.5022 Q522.797 26.1121 528.063 26.1121 Q535.152 26.1121 539 31.0947 Q542.849 36.0368 542.849 45.1919 L542.849 72.576 L535.354 72.576 L535.354 45.4349 Q535.354 38.913 533.045 35.7533 Q530.736 32.5936 525.997 32.5936 Q520.204 32.5936 516.842 36.4419 Q513.48 40.2903 513.48 46.9338 L513.48 72.576 L505.985 72.576 L505.985 45.4349 Q505.985 38.8725 503.676 35.7533 Q501.367 32.5936 496.547 32.5936 Q490.835 32.5936 487.473 36.4824 Q484.111 40.3308 484.111 46.9338 L484.111 72.576 L476.616 72.576 L476.616 27.2059 L484.111 27.2059 L484.111 34.2544 Q486.663 30.082 490.227 28.0971 Q493.792 26.1121 498.694 26.1121 Q503.636 26.1121 507.079 28.6237 Q510.563 31.1352 512.224 35.9153 Z\" fill=\"#000000\" fill-rule=\"evenodd\" fill-opacity=\"1\" /><path clip-path=\"url(#clip550)\" d=\"M596.523 48.0275 L596.523 51.6733 L562.252 51.6733 Q562.739 59.3701 566.87 63.421 Q571.043 67.4314 578.456 67.4314 Q582.75 67.4314 586.76 66.3781 Q590.811 65.3249 594.781 63.2184 L594.781 70.267 Q590.771 71.9684 586.558 72.8596 Q582.345 73.7508 578.01 73.7508 Q567.154 73.7508 560.794 67.4314 Q554.475 61.1119 554.475 50.3365 Q554.475 39.1965 560.47 32.6746 Q566.506 26.1121 576.714 26.1121 Q585.869 26.1121 591.176 32.0264 Q596.523 37.9003 596.523 48.0275 M589.069 45.84 Q588.988 39.7232 585.626 36.0774 Q582.304 32.4315 576.795 32.4315 Q570.557 32.4315 566.789 35.9558 Q563.063 39.4801 562.496 45.8805 L589.069 45.84 Z\" fill=\"#000000\" fill-rule=\"evenodd\" fill-opacity=\"1\" /><path clip-path=\"url(#clip550)\" d=\"M635.047 34.1734 Q633.791 33.4443 632.293 33.1202 Q630.834 32.7556 629.052 32.7556 Q622.732 32.7556 619.33 36.8875 Q615.967 40.9789 615.967 48.6757 L615.967 72.576 L608.473 72.576 L608.473 27.2059 L615.967 27.2059 L615.967 34.2544 Q618.317 30.1225 622.084 28.1376 Q625.852 26.1121 631.239 26.1121 Q632.009 26.1121 632.941 26.2337 Q633.872 26.3147 635.007 26.5172 L635.047 34.1734 Z\" fill=\"#000000\" fill-rule=\"evenodd\" fill-opacity=\"1\" /><path clip-path=\"url(#clip550)\" d=\"M642.865 27.2059 L650.319 27.2059 L650.319 72.576 L642.865 72.576 L642.865 27.2059 M642.865 9.54393 L650.319 9.54393 L650.319 18.9825 L642.865 18.9825 L642.865 9.54393 Z\" fill=\"#000000\" fill-rule=\"evenodd\" fill-opacity=\"1\" /><path clip-path=\"url(#clip550)\" d=\"M698.565 28.9478 L698.565 35.9153 Q695.406 34.1734 692.205 33.3227 Q689.046 32.4315 685.805 32.4315 Q678.554 32.4315 674.544 37.0496 Q670.533 41.6271 670.533 49.9314 Q670.533 58.2358 674.544 62.8538 Q678.554 67.4314 685.805 67.4314 Q689.046 67.4314 692.205 66.5807 Q695.406 65.6895 698.565 63.9476 L698.565 70.8341 Q695.446 72.2924 692.084 73.0216 Q688.762 73.7508 684.995 73.7508 Q674.746 73.7508 668.71 67.3098 Q662.674 60.8689 662.674 49.9314 Q662.674 38.832 668.751 32.472 Q674.868 26.1121 685.481 26.1121 Q688.924 26.1121 692.205 26.8413 Q695.487 27.5299 698.565 28.9478 Z\" fill=\"#000000\" fill-rule=\"evenodd\" fill-opacity=\"1\" /><path clip-path=\"url(#clip550)\" d=\"M732.552 27.2059 L740.452 27.2059 L754.63 65.2844 L768.808 27.2059 L776.707 27.2059 L759.694 72.576 L749.566 72.576 L732.552 27.2059 Z\" fill=\"#000000\" fill-rule=\"evenodd\" fill-opacity=\"1\" /><path clip-path=\"url(#clip550)\" d=\"M815.92 28.5427 L815.92 35.5912 Q812.76 33.9709 809.358 33.1607 Q805.955 32.3505 802.309 32.3505 Q796.759 32.3505 793.964 34.0519 Q791.21 35.7533 791.21 39.156 Q791.21 41.7486 793.195 43.2475 Q795.179 44.7058 801.175 46.0426 L803.727 46.6097 Q811.667 48.3111 814.988 51.4303 Q818.351 54.509 818.351 60.0587 Q818.351 66.3781 813.328 70.0644 Q808.345 73.7508 799.595 73.7508 Q795.949 73.7508 791.979 73.0216 Q788.05 72.3329 783.675 70.9151 L783.675 63.2184 Q787.807 65.3654 791.817 66.4591 Q795.828 67.5124 799.757 67.5124 Q805.023 67.5124 807.859 65.73 Q810.694 63.9071 810.694 60.6258 Q810.694 57.5877 808.628 55.9673 Q806.603 54.3469 799.676 52.8481 L797.083 52.2405 Q790.156 50.7821 787.078 47.7845 Q783.999 44.7463 783.999 39.4801 Q783.999 33.0797 788.536 29.5959 Q793.073 26.1121 801.418 26.1121 Q805.55 26.1121 809.196 26.7198 Q812.841 27.3274 815.92 28.5427 Z\" fill=\"#000000\" fill-rule=\"evenodd\" fill-opacity=\"1\" /><path clip-path=\"url(#clip550)\" d=\"M893.171 14.0809 L893.171 22.0612 Q888.512 19.8332 884.38 18.7395 Q880.248 17.6457 876.4 17.6457 Q869.716 17.6457 866.07 20.2383 Q862.465 22.8309 862.465 27.611 Q862.465 31.6214 864.855 33.6873 Q867.286 35.7128 874.01 36.9686 L878.952 37.9813 Q888.107 39.7232 892.442 44.1387 Q896.817 48.5136 896.817 55.8863 Q896.817 64.6767 890.902 69.2137 Q885.029 73.7508 873.645 73.7508 Q869.352 73.7508 864.49 72.7785 Q859.67 71.8063 854.485 69.9024 L854.485 61.4765 Q859.467 64.2716 864.247 65.6895 Q869.027 67.1073 873.645 67.1073 Q880.654 67.1073 884.461 64.3527 Q888.269 61.598 888.269 56.4939 Q888.269 52.0379 885.515 49.5264 Q882.801 47.0148 876.562 45.759 L871.58 44.7868 Q862.424 42.9639 858.333 39.075 Q854.242 35.1862 854.242 28.2591 Q854.242 20.2383 859.872 15.6203 Q865.544 11.0023 875.468 11.0023 Q879.722 11.0023 884.137 11.7719 Q888.553 12.5416 893.171 14.0809 Z\" fill=\"#000000\" fill-rule=\"evenodd\" fill-opacity=\"1\" /><path clip-path=\"url(#clip550)\" d=\"M928.13 76.7889 Q924.97 84.8907 921.973 87.3618 Q918.975 89.8329 913.952 89.8329 L907.997 89.8329 L907.997 83.5945 L912.372 83.5945 Q915.451 83.5945 917.152 82.1361 Q918.854 80.6778 920.92 75.2496 L922.256 71.8468 L903.906 27.2059 L911.805 27.2059 L925.983 62.6918 L940.161 27.2059 L948.061 27.2059 L928.13 76.7889 Z\" fill=\"#000000\" fill-rule=\"evenodd\" fill-opacity=\"1\" /><path clip-path=\"url(#clip550)\" d=\"M993.674 35.9153 Q996.469 30.8922 1000.36 28.5022 Q1004.25 26.1121 1009.51 26.1121 Q1016.6 26.1121 1020.45 31.0947 Q1024.3 36.0368 1024.3 45.1919 L1024.3 72.576 L1016.8 72.576 L1016.8 45.4349 Q1016.8 38.913 1014.5 35.7533 Q1012.19 32.5936 1007.45 32.5936 Q1001.65 32.5936 998.292 36.4419 Q994.93 40.2903 994.93 46.9338 L994.93 72.576 L987.435 72.576 L987.435 45.4349 Q987.435 38.8725 985.126 35.7533 Q982.817 32.5936 977.997 32.5936 Q972.285 32.5936 968.923 36.4824 Q965.56 40.3308 965.56 46.9338 L965.56 72.576 L958.066 72.576 L958.066 27.2059 L965.56 27.2059 L965.56 34.2544 Q968.113 30.082 971.677 28.0971 Q975.242 26.1121 980.144 26.1121 Q985.086 26.1121 988.529 28.6237 Q992.013 31.1352 993.674 35.9153 Z\" fill=\"#000000\" fill-rule=\"evenodd\" fill-opacity=\"1\" /><path clip-path=\"url(#clip550)\" d=\"M1071.73 49.9314 Q1071.73 41.7081 1068.33 37.0496 Q1064.97 32.3505 1059.06 32.3505 Q1053.14 32.3505 1049.74 37.0496 Q1046.38 41.7081 1046.38 49.9314 Q1046.38 58.1548 1049.74 62.8538 Q1053.14 67.5124 1059.06 67.5124 Q1064.97 67.5124 1068.33 62.8538 Q1071.73 58.1548 1071.73 49.9314 M1046.38 34.0924 Q1048.73 30.0415 1052.29 28.0971 Q1055.9 26.1121 1060.88 26.1121 Q1069.14 26.1121 1074.29 32.6746 Q1079.47 39.2371 1079.47 49.9314 Q1079.47 60.6258 1074.29 67.1883 Q1069.14 73.7508 1060.88 73.7508 Q1055.9 73.7508 1052.29 71.8063 Q1048.73 69.8214 1046.38 65.7705 L1046.38 72.576 L1038.88 72.576 L1038.88 9.54393 L1046.38 9.54393 L1046.38 34.0924 Z\" fill=\"#000000\" fill-rule=\"evenodd\" fill-opacity=\"1\" /><path clip-path=\"url(#clip550)\" d=\"M1109.41 32.4315 Q1103.41 32.4315 1099.93 37.1306 Q1096.45 41.7891 1096.45 49.9314 Q1096.45 58.0738 1099.89 62.7728 Q1103.37 67.4314 1109.41 67.4314 Q1115.36 67.4314 1118.85 62.7323 Q1122.33 58.0333 1122.33 49.9314 Q1122.33 41.8701 1118.85 37.1711 Q1115.36 32.4315 1109.41 32.4315 M1109.41 26.1121 Q1119.13 26.1121 1124.68 32.4315 Q1130.23 38.7509 1130.23 49.9314 Q1130.23 61.0714 1124.68 67.4314 Q1119.13 73.7508 1109.41 73.7508 Q1099.65 73.7508 1094.1 67.4314 Q1088.59 61.0714 1088.59 49.9314 Q1088.59 38.7509 1094.1 32.4315 Q1099.65 26.1121 1109.41 26.1121 Z\" fill=\"#000000\" fill-rule=\"evenodd\" fill-opacity=\"1\" /><path clip-path=\"url(#clip550)\" d=\"M1142.59 9.54393 L1150.04 9.54393 L1150.04 72.576 L1142.59 72.576 L1142.59 9.54393 Z\" fill=\"#000000\" fill-rule=\"evenodd\" fill-opacity=\"1\" /><path clip-path=\"url(#clip550)\" d=\"M1165.63 27.2059 L1173.09 27.2059 L1173.09 72.576 L1165.63 72.576 L1165.63 27.2059 M1165.63 9.54393 L1173.09 9.54393 L1173.09 18.9825 L1165.63 18.9825 L1165.63 9.54393 Z\" fill=\"#000000\" fill-rule=\"evenodd\" fill-opacity=\"1\" /><path clip-path=\"url(#clip550)\" d=\"M1221.33 28.9478 L1221.33 35.9153 Q1218.17 34.1734 1214.97 33.3227 Q1211.81 32.4315 1208.57 32.4315 Q1201.32 32.4315 1197.31 37.0496 Q1193.3 41.6271 1193.3 49.9314 Q1193.3 58.2358 1197.31 62.8538 Q1201.32 67.4314 1208.57 67.4314 Q1211.81 67.4314 1214.97 66.5807 Q1218.17 65.6895 1221.33 63.9476 L1221.33 70.8341 Q1218.22 72.2924 1214.85 73.0216 Q1211.53 73.7508 1207.76 73.7508 Q1197.52 73.7508 1191.48 67.3098 Q1185.44 60.8689 1185.44 49.9314 Q1185.44 38.832 1191.52 32.472 Q1197.64 26.1121 1208.25 26.1121 Q1211.69 26.1121 1214.97 26.8413 Q1218.26 27.5299 1221.33 28.9478 Z\" fill=\"#000000\" fill-rule=\"evenodd\" fill-opacity=\"1\" /><path clip-path=\"url(#clip550)\" d=\"M1269.18 18.8205 L1269.18 41.5461 L1279.47 41.5461 Q1285.18 41.5461 1288.3 38.5889 Q1291.42 35.6318 1291.42 30.163 Q1291.42 24.7348 1288.3 21.7777 Q1285.18 18.8205 1279.47 18.8205 L1269.18 18.8205 M1260.99 12.096 L1279.47 12.096 Q1289.63 12.096 1294.82 16.714 Q1300.04 21.2916 1300.04 30.163 Q1300.04 39.1155 1294.82 43.6931 Q1289.63 48.2706 1279.47 48.2706 L1269.18 48.2706 L1269.18 72.576 L1260.99 72.576 L1260.99 12.096 Z\" fill=\"#000000\" fill-rule=\"evenodd\" fill-opacity=\"1\" /><path clip-path=\"url(#clip550)\" d=\"M1346.55 48.0275 L1346.55 51.6733 L1312.28 51.6733 Q1312.76 59.3701 1316.9 63.421 Q1321.07 67.4314 1328.48 67.4314 Q1332.77 67.4314 1336.79 66.3781 Q1340.84 65.3249 1344.81 63.2184 L1344.81 70.267 Q1340.8 71.9684 1336.58 72.8596 Q1332.37 73.7508 1328.04 73.7508 Q1317.18 73.7508 1310.82 67.4314 Q1304.5 61.1119 1304.5 50.3365 Q1304.5 39.1965 1310.49 32.6746 Q1316.53 26.1121 1326.74 26.1121 Q1335.89 26.1121 1341.2 32.0264 Q1346.55 37.9003 1346.55 48.0275 M1339.09 45.84 Q1339.01 39.7232 1335.65 36.0774 Q1332.33 32.4315 1326.82 32.4315 Q1320.58 32.4315 1316.81 35.9558 Q1313.09 39.4801 1312.52 45.8805 L1339.09 45.84 Z\" fill=\"#000000\" fill-rule=\"evenodd\" fill-opacity=\"1\" /><path clip-path=\"url(#clip550)\" d=\"M1385.07 34.1734 Q1383.82 33.4443 1382.32 33.1202 Q1380.86 32.7556 1379.08 32.7556 Q1372.76 32.7556 1369.35 36.8875 Q1365.99 40.9789 1365.99 48.6757 L1365.99 72.576 L1358.5 72.576 L1358.5 27.2059 L1365.99 27.2059 L1365.99 34.2544 Q1368.34 30.1225 1372.11 28.1376 Q1375.88 26.1121 1381.26 26.1121 Q1382.03 26.1121 1382.97 26.2337 Q1383.9 26.3147 1385.03 26.5172 L1385.07 34.1734 Z\" fill=\"#000000\" fill-rule=\"evenodd\" fill-opacity=\"1\" /><path clip-path=\"url(#clip550)\" d=\"M1400.26 14.324 L1400.26 27.2059 L1415.62 27.2059 L1415.62 32.9987 L1400.26 32.9987 L1400.26 57.6282 Q1400.26 63.1779 1401.76 64.7578 Q1403.3 66.3376 1407.96 66.3376 L1415.62 66.3376 L1415.62 72.576 L1407.96 72.576 Q1399.33 72.576 1396.05 69.3758 Q1392.77 66.1351 1392.77 57.6282 L1392.77 32.9987 L1387.3 32.9987 L1387.3 27.2059 L1392.77 27.2059 L1392.77 14.324 L1400.26 14.324 Z\" fill=\"#000000\" fill-rule=\"evenodd\" fill-opacity=\"1\" /><path clip-path=\"url(#clip550)\" d=\"M1424.65 54.671 L1424.65 27.2059 L1432.1 27.2059 L1432.1 54.3874 Q1432.1 60.8284 1434.61 64.0691 Q1437.13 67.2693 1442.15 67.2693 Q1448.19 67.2693 1451.67 63.421 Q1455.19 59.5726 1455.19 52.9291 L1455.19 27.2059 L1462.65 27.2059 L1462.65 72.576 L1455.19 72.576 L1455.19 65.6084 Q1452.48 69.7404 1448.87 71.7658 Q1445.31 73.7508 1440.57 73.7508 Q1432.75 73.7508 1428.7 68.8897 Q1424.65 64.0286 1424.65 54.671 M1443.41 26.1121 L1443.41 26.1121 Z\" fill=\"#000000\" fill-rule=\"evenodd\" fill-opacity=\"1\" /><path clip-path=\"url(#clip550)\" d=\"M1504.29 34.1734 Q1503.03 33.4443 1501.54 33.1202 Q1500.08 32.7556 1498.29 32.7556 Q1491.98 32.7556 1488.57 36.8875 Q1485.21 40.9789 1485.21 48.6757 L1485.21 72.576 L1477.72 72.576 L1477.72 27.2059 L1485.21 27.2059 L1485.21 34.2544 Q1487.56 30.1225 1491.33 28.1376 Q1495.09 26.1121 1500.48 26.1121 Q1501.25 26.1121 1502.18 26.2337 Q1503.12 26.3147 1504.25 26.5172 L1504.29 34.1734 Z\" fill=\"#000000\" fill-rule=\"evenodd\" fill-opacity=\"1\" /><path clip-path=\"url(#clip550)\" d=\"M1544.68 49.9314 Q1544.68 41.7081 1541.27 37.0496 Q1537.91 32.3505 1532 32.3505 Q1526.08 32.3505 1522.68 37.0496 Q1519.32 41.7081 1519.32 49.9314 Q1519.32 58.1548 1522.68 62.8538 Q1526.08 67.5124 1532 67.5124 Q1537.91 67.5124 1541.27 62.8538 Q1544.68 58.1548 1544.68 49.9314 M1519.32 34.0924 Q1521.67 30.0415 1525.23 28.0971 Q1528.84 26.1121 1533.82 26.1121 Q1542.09 26.1121 1547.23 32.6746 Q1552.41 39.2371 1552.41 49.9314 Q1552.41 60.6258 1547.23 67.1883 Q1542.09 73.7508 1533.82 73.7508 Q1528.84 73.7508 1525.23 71.8063 Q1521.67 69.8214 1519.32 65.7705 L1519.32 72.576 L1511.82 72.576 L1511.82 9.54393 L1519.32 9.54393 L1519.32 34.0924 Z\" fill=\"#000000\" fill-rule=\"evenodd\" fill-opacity=\"1\" /><path clip-path=\"url(#clip550)\" d=\"M1585.39 49.7694 Q1576.36 49.7694 1572.87 51.8354 Q1569.39 53.9013 1569.39 58.8839 Q1569.39 62.8538 1571.98 65.2034 Q1574.61 67.5124 1579.11 67.5124 Q1585.31 67.5124 1589.04 63.1374 Q1592.8 58.7219 1592.8 51.4303 L1592.8 49.7694 L1585.39 49.7694 M1600.26 46.6907 L1600.26 72.576 L1592.8 72.576 L1592.8 65.6895 Q1590.25 69.8214 1586.44 71.8063 Q1582.63 73.7508 1577.13 73.7508 Q1570.16 73.7508 1566.03 69.8619 Q1561.93 65.9325 1561.93 59.3701 Q1561.93 51.7138 1567.04 47.825 Q1572.18 43.9361 1582.35 43.9361 L1592.8 43.9361 L1592.8 43.2069 Q1592.8 38.0623 1589.4 35.2672 Q1586.04 32.4315 1579.92 32.4315 Q1576.03 32.4315 1572.35 33.3632 Q1568.66 34.295 1565.26 36.1584 L1565.26 29.2718 Q1569.35 27.692 1573.2 26.9223 Q1577.04 26.1121 1580.69 26.1121 Q1590.53 26.1121 1595.4 31.2163 Q1600.26 36.3204 1600.26 46.6907 Z\" fill=\"#000000\" fill-rule=\"evenodd\" fill-opacity=\"1\" /><path clip-path=\"url(#clip550)\" d=\"M1622.98 14.324 L1622.98 27.2059 L1638.33 27.2059 L1638.33 32.9987 L1622.98 32.9987 L1622.98 57.6282 Q1622.98 63.1779 1624.48 64.7578 Q1626.02 66.3376 1630.68 66.3376 L1638.33 66.3376 L1638.33 72.576 L1630.68 72.576 Q1622.05 72.576 1618.77 69.3758 Q1615.49 66.1351 1615.49 57.6282 L1615.49 32.9987 L1610.02 32.9987 L1610.02 27.2059 L1615.49 27.2059 L1615.49 14.324 L1622.98 14.324 Z\" fill=\"#000000\" fill-rule=\"evenodd\" fill-opacity=\"1\" /><path clip-path=\"url(#clip550)\" d=\"M1648.14 27.2059 L1655.59 27.2059 L1655.59 72.576 L1648.14 72.576 L1648.14 27.2059 M1648.14 9.54393 L1655.59 9.54393 L1655.59 18.9825 L1648.14 18.9825 L1648.14 9.54393 Z\" fill=\"#000000\" fill-rule=\"evenodd\" fill-opacity=\"1\" /><path clip-path=\"url(#clip550)\" d=\"M1665.84 27.2059 L1673.74 27.2059 L1687.92 65.2844 L1702.1 27.2059 L1710 27.2059 L1692.98 72.576 L1682.85 72.576 L1665.84 27.2059 Z\" fill=\"#000000\" fill-rule=\"evenodd\" fill-opacity=\"1\" /><path clip-path=\"url(#clip550)\" d=\"M1759.09 48.0275 L1759.09 51.6733 L1724.82 51.6733 Q1725.31 59.3701 1729.44 63.421 Q1733.61 67.4314 1741.03 67.4314 Q1745.32 67.4314 1749.33 66.3781 Q1753.38 65.3249 1757.35 63.2184 L1757.35 70.267 Q1753.34 71.9684 1749.13 72.8596 Q1744.91 73.7508 1740.58 73.7508 Q1729.72 73.7508 1723.36 67.4314 Q1717.04 61.1119 1717.04 50.3365 Q1717.04 39.1965 1723.04 32.6746 Q1729.07 26.1121 1739.28 26.1121 Q1748.44 26.1121 1753.74 32.0264 Q1759.09 37.9003 1759.09 48.0275 M1751.64 45.84 Q1751.56 39.7232 1748.2 36.0774 Q1744.87 32.4315 1739.36 32.4315 Q1733.13 32.4315 1729.36 35.9558 Q1725.63 39.4801 1725.06 45.8805 L1751.64 45.84 Z\" fill=\"#000000\" fill-rule=\"evenodd\" fill-opacity=\"1\" /><path clip-path=\"url(#clip550)\" d=\"M1798.02 12.096 L1836.26 12.096 L1836.26 18.9825 L1806.2 18.9825 L1806.2 36.8875 L1835.01 36.8875 L1835.01 43.7741 L1806.2 43.7741 L1806.2 65.6895 L1836.99 65.6895 L1836.99 72.576 L1798.02 72.576 L1798.02 12.096 Z\" fill=\"#000000\" fill-rule=\"evenodd\" fill-opacity=\"1\" /><path clip-path=\"url(#clip550)\" d=\"M1887.83 27.2059 L1871.42 49.2833 L1888.68 72.576 L1879.89 72.576 L1866.68 54.752 L1853.48 72.576 L1844.69 72.576 L1862.31 48.8377 L1846.19 27.2059 L1854.98 27.2059 L1867.01 43.369 L1879.04 27.2059 L1887.83 27.2059 Z\" fill=\"#000000\" fill-rule=\"evenodd\" fill-opacity=\"1\" /><path clip-path=\"url(#clip550)\" d=\"M1906.42 65.7705 L1906.42 89.8329 L1898.93 89.8329 L1898.93 27.2059 L1906.42 27.2059 L1906.42 34.0924 Q1908.77 30.0415 1912.34 28.0971 Q1915.94 26.1121 1920.93 26.1121 Q1929.19 26.1121 1934.33 32.6746 Q1939.52 39.2371 1939.52 49.9314 Q1939.52 60.6258 1934.33 67.1883 Q1929.19 73.7508 1920.93 73.7508 Q1915.94 73.7508 1912.34 71.8063 Q1908.77 69.8214 1906.42 65.7705 M1931.78 49.9314 Q1931.78 41.7081 1928.38 37.0496 Q1925.02 32.3505 1919.1 32.3505 Q1913.19 32.3505 1909.79 37.0496 Q1906.42 41.7081 1906.42 49.9314 Q1906.42 58.1548 1909.79 62.8538 Q1913.19 67.5124 1919.1 67.5124 Q1925.02 67.5124 1928.38 62.8538 Q1931.78 58.1548 1931.78 49.9314 Z\" fill=\"#000000\" fill-rule=\"evenodd\" fill-opacity=\"1\" /><path clip-path=\"url(#clip550)\" d=\"M1972.49 49.7694 Q1963.46 49.7694 1959.98 51.8354 Q1956.49 53.9013 1956.49 58.8839 Q1956.49 62.8538 1959.09 65.2034 Q1961.72 67.5124 1966.21 67.5124 Q1972.41 67.5124 1976.14 63.1374 Q1979.91 58.7219 1979.91 51.4303 L1979.91 49.7694 L1972.49 49.7694 M1987.36 46.6907 L1987.36 72.576 L1979.91 72.576 L1979.91 65.6895 Q1977.35 69.8214 1973.55 71.8063 Q1969.74 73.7508 1964.23 73.7508 Q1957.26 73.7508 1953.13 69.8619 Q1949.04 65.9325 1949.04 59.3701 Q1949.04 51.7138 1954.14 47.825 Q1959.29 43.9361 1969.46 43.9361 L1979.91 43.9361 L1979.91 43.2069 Q1979.91 38.0623 1976.5 35.2672 Q1973.14 32.4315 1967.03 32.4315 Q1963.14 32.4315 1959.45 33.3632 Q1955.76 34.295 1952.36 36.1584 L1952.36 29.2718 Q1956.45 27.692 1960.3 26.9223 Q1964.15 26.1121 1967.79 26.1121 Q1977.64 26.1121 1982.5 31.2163 Q1987.36 36.3204 1987.36 46.6907 Z\" fill=\"#000000\" fill-rule=\"evenodd\" fill-opacity=\"1\" /><path clip-path=\"url(#clip550)\" d=\"M2040.43 45.1919 L2040.43 72.576 L2032.97 72.576 L2032.97 45.4349 Q2032.97 38.994 2030.46 35.7938 Q2027.95 32.5936 2022.93 32.5936 Q2016.89 32.5936 2013.41 36.4419 Q2009.92 40.2903 2009.92 46.9338 L2009.92 72.576 L2002.43 72.576 L2002.43 27.2059 L2009.92 27.2059 L2009.92 34.2544 Q2012.6 30.163 2016.2 28.1376 Q2019.85 26.1121 2024.59 26.1121 Q2032.41 26.1121 2036.42 30.9732 Q2040.43 35.7938 2040.43 45.1919 Z\" fill=\"#000000\" fill-rule=\"evenodd\" fill-opacity=\"1\" /><path clip-path=\"url(#clip550)\" d=\"M2084.22 28.5427 L2084.22 35.5912 Q2081.06 33.9709 2077.66 33.1607 Q2074.25 32.3505 2070.61 32.3505 Q2065.06 32.3505 2062.26 34.0519 Q2059.51 35.7533 2059.51 39.156 Q2059.51 41.7486 2061.49 43.2475 Q2063.48 44.7058 2069.47 46.0426 L2072.02 46.6097 Q2079.96 48.3111 2083.29 51.4303 Q2086.65 54.509 2086.65 60.0587 Q2086.65 66.3781 2081.63 70.0644 Q2076.64 73.7508 2067.89 73.7508 Q2064.25 73.7508 2060.28 73.0216 Q2056.35 72.3329 2051.97 70.9151 L2051.97 63.2184 Q2056.1 65.3654 2060.11 66.4591 Q2064.13 67.5124 2068.05 67.5124 Q2073.32 67.5124 2076.16 65.73 Q2078.99 63.9071 2078.99 60.6258 Q2078.99 57.5877 2076.93 55.9673 Q2074.9 54.3469 2067.97 52.8481 L2065.38 52.2405 Q2058.45 50.7821 2055.38 47.7845 Q2052.3 44.7463 2052.3 39.4801 Q2052.3 33.0797 2056.83 29.5959 Q2061.37 26.1121 2069.72 26.1121 Q2073.85 26.1121 2077.49 26.7198 Q2081.14 27.3274 2084.22 28.5427 Z\" fill=\"#000000\" fill-rule=\"evenodd\" fill-opacity=\"1\" /><path clip-path=\"url(#clip550)\" d=\"M2098.52 27.2059 L2105.97 27.2059 L2105.97 72.576 L2098.52 72.576 L2098.52 27.2059 M2098.52 9.54393 L2105.97 9.54393 L2105.97 18.9825 L2098.52 18.9825 L2098.52 9.54393 Z\" fill=\"#000000\" fill-rule=\"evenodd\" fill-opacity=\"1\" /><path clip-path=\"url(#clip550)\" d=\"M2139.15 32.4315 Q2133.15 32.4315 2129.67 37.1306 Q2126.19 41.7891 2126.19 49.9314 Q2126.19 58.0738 2129.63 62.7728 Q2133.11 67.4314 2139.15 67.4314 Q2145.1 67.4314 2148.59 62.7323 Q2152.07 58.0333 2152.07 49.9314 Q2152.07 41.8701 2148.59 37.1711 Q2145.1 32.4315 2139.15 32.4315 M2139.15 26.1121 Q2148.87 26.1121 2154.42 32.4315 Q2159.97 38.7509 2159.97 49.9314 Q2159.97 61.0714 2154.42 67.4314 Q2148.87 73.7508 2139.15 73.7508 Q2129.39 73.7508 2123.84 67.4314 Q2118.33 61.0714 2118.33 49.9314 Q2118.33 38.7509 2123.84 32.4315 Q2129.39 26.1121 2139.15 26.1121 Z\" fill=\"#000000\" fill-rule=\"evenodd\" fill-opacity=\"1\" /><path clip-path=\"url(#clip550)\" d=\"M2210.04 45.1919 L2210.04 72.576 L2202.59 72.576 L2202.59 45.4349 Q2202.59 38.994 2200.07 35.7938 Q2197.56 32.5936 2192.54 32.5936 Q2186.5 32.5936 2183.02 36.4419 Q2179.54 40.2903 2179.54 46.9338 L2179.54 72.576 L2172.04 72.576 L2172.04 27.2059 L2179.54 27.2059 L2179.54 34.2544 Q2182.21 30.163 2185.81 28.1376 Q2189.46 26.1121 2194.2 26.1121 Q2202.02 26.1121 2206.03 30.9732 Q2210.04 35.7938 2210.04 45.1919 Z\" fill=\"#000000\" fill-rule=\"evenodd\" fill-opacity=\"1\" /><polyline clip-path=\"url(#clip552)\" style=\"stroke:#009af9; stroke-linecap:butt; stroke-linejoin:round; stroke-width:4; stroke-opacity:1; fill:none\" points=\"\n",
       "  280.231,160.256 481.447,331.334 682.663,490.208 883.879,637.438 1085.1,773.569 1286.31,899.135 1487.53,1014.66 1688.74,1120.65 1889.96,1217.62 2091.18,1306.04 \n",
       "  2292.39,1386.4 \n",
       "  \"/>\n",
       "<polyline clip-path=\"url(#clip552)\" style=\"stroke:#e26f46; stroke-linecap:butt; stroke-linejoin:round; stroke-width:0; stroke-opacity:1; fill:none\" points=\"\n",
       "  280.231,160.256 481.447,331.334 682.663,490.208 883.879,637.438 1085.1,773.569 1286.31,899.135 1487.53,1014.66 1688.74,1120.65 1889.96,1217.62 2091.18,1306.04 \n",
       "  2292.39,1386.4 \n",
       "  \"/>\n",
       "<circle clip-path=\"url(#clip552)\" cx=\"280.231\" cy=\"160.256\" r=\"14\" fill=\"#e26f46\" fill-rule=\"evenodd\" fill-opacity=\"1\" stroke=\"#000000\" stroke-opacity=\"1\" stroke-width=\"3.2\"/>\n",
       "<circle clip-path=\"url(#clip552)\" cx=\"481.447\" cy=\"331.334\" r=\"14\" fill=\"#e26f46\" fill-rule=\"evenodd\" fill-opacity=\"1\" stroke=\"#000000\" stroke-opacity=\"1\" stroke-width=\"3.2\"/>\n",
       "<circle clip-path=\"url(#clip552)\" cx=\"682.663\" cy=\"490.208\" r=\"14\" fill=\"#e26f46\" fill-rule=\"evenodd\" fill-opacity=\"1\" stroke=\"#000000\" stroke-opacity=\"1\" stroke-width=\"3.2\"/>\n",
       "<circle clip-path=\"url(#clip552)\" cx=\"883.879\" cy=\"637.438\" r=\"14\" fill=\"#e26f46\" fill-rule=\"evenodd\" fill-opacity=\"1\" stroke=\"#000000\" stroke-opacity=\"1\" stroke-width=\"3.2\"/>\n",
       "<circle clip-path=\"url(#clip552)\" cx=\"1085.1\" cy=\"773.569\" r=\"14\" fill=\"#e26f46\" fill-rule=\"evenodd\" fill-opacity=\"1\" stroke=\"#000000\" stroke-opacity=\"1\" stroke-width=\"3.2\"/>\n",
       "<circle clip-path=\"url(#clip552)\" cx=\"1286.31\" cy=\"899.135\" r=\"14\" fill=\"#e26f46\" fill-rule=\"evenodd\" fill-opacity=\"1\" stroke=\"#000000\" stroke-opacity=\"1\" stroke-width=\"3.2\"/>\n",
       "<circle clip-path=\"url(#clip552)\" cx=\"1487.53\" cy=\"1014.66\" r=\"14\" fill=\"#e26f46\" fill-rule=\"evenodd\" fill-opacity=\"1\" stroke=\"#000000\" stroke-opacity=\"1\" stroke-width=\"3.2\"/>\n",
       "<circle clip-path=\"url(#clip552)\" cx=\"1688.74\" cy=\"1120.65\" r=\"14\" fill=\"#e26f46\" fill-rule=\"evenodd\" fill-opacity=\"1\" stroke=\"#000000\" stroke-opacity=\"1\" stroke-width=\"3.2\"/>\n",
       "<circle clip-path=\"url(#clip552)\" cx=\"1889.96\" cy=\"1217.62\" r=\"14\" fill=\"#e26f46\" fill-rule=\"evenodd\" fill-opacity=\"1\" stroke=\"#000000\" stroke-opacity=\"1\" stroke-width=\"3.2\"/>\n",
       "<circle clip-path=\"url(#clip552)\" cx=\"2091.18\" cy=\"1306.04\" r=\"14\" fill=\"#e26f46\" fill-rule=\"evenodd\" fill-opacity=\"1\" stroke=\"#000000\" stroke-opacity=\"1\" stroke-width=\"3.2\"/>\n",
       "<circle clip-path=\"url(#clip552)\" cx=\"2292.39\" cy=\"1386.4\" r=\"14\" fill=\"#e26f46\" fill-rule=\"evenodd\" fill-opacity=\"1\" stroke=\"#000000\" stroke-opacity=\"1\" stroke-width=\"3.2\"/>\n",
       "<path clip-path=\"url(#clip550)\" d=\"\n",
       "M1839.74 322.316 L2281.66 322.316 L2281.66 166.796 L1839.74 166.796  Z\n",
       "  \" fill=\"#ffffff\" fill-rule=\"evenodd\" fill-opacity=\"1\"/>\n",
       "<polyline clip-path=\"url(#clip550)\" style=\"stroke:#000000; stroke-linecap:butt; stroke-linejoin:round; stroke-width:4; stroke-opacity:1; fill:none\" points=\"\n",
       "  1839.74,322.316 2281.66,322.316 2281.66,166.796 1839.74,166.796 1839.74,322.316 \n",
       "  \"/>\n",
       "<polyline clip-path=\"url(#clip550)\" style=\"stroke:#009af9; stroke-linecap:butt; stroke-linejoin:round; stroke-width:4; stroke-opacity:1; fill:none\" points=\"\n",
       "  1863.44,218.636 2005.63,218.636 \n",
       "  \"/>\n",
       "<path clip-path=\"url(#clip550)\" d=\"M2047.76 210.754 L2047.76 214.782 Q2045.95 213.856 2044.01 213.393 Q2042.06 212.93 2039.98 212.93 Q2036.81 212.93 2035.21 213.902 Q2033.64 214.874 2033.64 216.819 Q2033.64 218.3 2034.77 219.157 Q2035.91 219.99 2039.33 220.754 L2040.79 221.078 Q2045.33 222.05 2047.23 223.832 Q2049.15 225.592 2049.15 228.763 Q2049.15 232.374 2046.28 234.481 Q2043.43 236.587 2038.43 236.587 Q2036.35 236.587 2034.08 236.17 Q2031.83 235.777 2029.33 234.967 L2029.33 230.569 Q2031.69 231.795 2033.99 232.42 Q2036.28 233.022 2038.52 233.022 Q2041.53 233.022 2043.15 232.004 Q2044.77 230.962 2044.77 229.087 Q2044.77 227.351 2043.59 226.425 Q2042.43 225.499 2038.48 224.643 L2036.99 224.295 Q2033.04 223.462 2031.28 221.749 Q2029.52 220.013 2029.52 217.004 Q2029.52 213.346 2032.11 211.356 Q2034.7 209.365 2039.47 209.365 Q2041.83 209.365 2043.92 209.712 Q2046 210.059 2047.76 210.754 Z\" fill=\"#000000\" fill-rule=\"evenodd\" fill-opacity=\"1\" /><path clip-path=\"url(#clip550)\" d=\"M2066.72 238.323 Q2064.91 242.953 2063.2 244.365 Q2061.49 245.777 2058.61 245.777 L2055.21 245.777 L2055.21 242.212 L2057.71 242.212 Q2059.47 242.212 2060.44 241.379 Q2061.42 240.545 2062.6 237.443 L2063.36 235.499 L2052.87 209.99 L2057.39 209.99 L2065.49 230.268 L2073.59 209.99 L2078.11 209.99 L2066.72 238.323 Z\" fill=\"#000000\" fill-rule=\"evenodd\" fill-opacity=\"1\" /><path clip-path=\"url(#clip550)\" d=\"M2104.17 214.967 Q2105.77 212.096 2107.99 210.731 Q2110.21 209.365 2113.22 209.365 Q2117.27 209.365 2119.47 212.212 Q2121.67 215.036 2121.67 220.268 L2121.67 235.916 L2117.39 235.916 L2117.39 220.407 Q2117.39 216.68 2116.07 214.874 Q2114.75 213.069 2112.04 213.069 Q2108.73 213.069 2106.81 215.268 Q2104.89 217.467 2104.89 221.263 L2104.89 235.916 L2100.61 235.916 L2100.61 220.407 Q2100.61 216.657 2099.29 214.874 Q2097.97 213.069 2095.21 213.069 Q2091.95 213.069 2090.03 215.291 Q2088.11 217.49 2088.11 221.263 L2088.11 235.916 L2083.82 235.916 L2083.82 209.99 L2088.11 209.99 L2088.11 214.018 Q2089.56 211.633 2091.6 210.499 Q2093.64 209.365 2096.44 209.365 Q2099.26 209.365 2101.23 210.8 Q2103.22 212.235 2104.17 214.967 Z\" fill=\"#000000\" fill-rule=\"evenodd\" fill-opacity=\"1\" /><path clip-path=\"url(#clip550)\" d=\"M2148.78 222.976 Q2148.78 218.277 2146.83 215.615 Q2144.91 212.93 2141.53 212.93 Q2138.15 212.93 2136.21 215.615 Q2134.29 218.277 2134.29 222.976 Q2134.29 227.675 2136.21 230.36 Q2138.15 233.022 2141.53 233.022 Q2144.91 233.022 2146.83 230.36 Q2148.78 227.675 2148.78 222.976 M2134.29 213.925 Q2135.63 211.61 2137.67 210.499 Q2139.73 209.365 2142.57 209.365 Q2147.29 209.365 2150.23 213.115 Q2153.2 216.865 2153.2 222.976 Q2153.2 229.087 2150.23 232.837 Q2147.29 236.587 2142.57 236.587 Q2139.73 236.587 2137.67 235.476 Q2135.63 234.342 2134.29 232.027 L2134.29 235.916 L2130 235.916 L2130 199.897 L2134.29 199.897 L2134.29 213.925 Z\" fill=\"#000000\" fill-rule=\"evenodd\" fill-opacity=\"1\" /><path clip-path=\"url(#clip550)\" d=\"M2170.3 212.976 Q2166.88 212.976 2164.89 215.661 Q2162.9 218.323 2162.9 222.976 Q2162.9 227.629 2164.86 230.314 Q2166.85 232.976 2170.3 232.976 Q2173.71 232.976 2175.7 230.291 Q2177.69 227.606 2177.69 222.976 Q2177.69 218.37 2175.7 215.684 Q2173.71 212.976 2170.3 212.976 M2170.3 209.365 Q2175.86 209.365 2179.03 212.976 Q2182.2 216.587 2182.2 222.976 Q2182.2 229.342 2179.03 232.976 Q2175.86 236.587 2170.3 236.587 Q2164.73 236.587 2161.55 232.976 Q2158.41 229.342 2158.41 222.976 Q2158.41 216.587 2161.55 212.976 Q2164.73 209.365 2170.3 209.365 Z\" fill=\"#000000\" fill-rule=\"evenodd\" fill-opacity=\"1\" /><path clip-path=\"url(#clip550)\" d=\"M2189.26 199.897 L2193.52 199.897 L2193.52 235.916 L2189.26 235.916 L2189.26 199.897 Z\" fill=\"#000000\" fill-rule=\"evenodd\" fill-opacity=\"1\" /><path clip-path=\"url(#clip550)\" d=\"M2202.43 209.99 L2206.69 209.99 L2206.69 235.916 L2202.43 235.916 L2202.43 209.99 M2202.43 199.897 L2206.69 199.897 L2206.69 205.291 L2202.43 205.291 L2202.43 199.897 Z\" fill=\"#000000\" fill-rule=\"evenodd\" fill-opacity=\"1\" /><path clip-path=\"url(#clip550)\" d=\"M2234.26 210.985 L2234.26 214.967 Q2232.46 213.971 2230.63 213.485 Q2228.82 212.976 2226.97 212.976 Q2222.83 212.976 2220.54 215.615 Q2218.24 218.231 2218.24 222.976 Q2218.24 227.721 2220.54 230.36 Q2222.83 232.976 2226.97 232.976 Q2228.82 232.976 2230.63 232.49 Q2232.46 231.981 2234.26 230.985 L2234.26 234.92 Q2232.48 235.754 2230.56 236.17 Q2228.66 236.587 2226.51 236.587 Q2220.65 236.587 2217.2 232.906 Q2213.75 229.226 2213.75 222.976 Q2213.75 216.633 2217.23 212.999 Q2220.72 209.365 2226.79 209.365 Q2228.75 209.365 2230.63 209.782 Q2232.5 210.175 2234.26 210.985 Z\" fill=\"#000000\" fill-rule=\"evenodd\" fill-opacity=\"1\" /><polyline clip-path=\"url(#clip550)\" style=\"stroke:#e26f46; stroke-linecap:butt; stroke-linejoin:round; stroke-width:4; stroke-opacity:1; fill:none\" points=\"\n",
       "  1863.44,270.476 2005.63,270.476 \n",
       "  \"/>\n",
       "<circle clip-path=\"url(#clip550)\" cx=\"1934.54\" cy=\"270.476\" r=\"23\" fill=\"#e26f46\" fill-rule=\"evenodd\" fill-opacity=\"1\" stroke=\"#000000\" stroke-opacity=\"1\" stroke-width=\"5.12\"/>\n",
       "<path clip-path=\"url(#clip550)\" d=\"M2051.05 272.108 L2051.05 287.756 L2046.79 287.756 L2046.79 272.247 Q2046.79 268.566 2045.35 266.737 Q2043.92 264.909 2041.05 264.909 Q2037.6 264.909 2035.61 267.108 Q2033.61 269.307 2033.61 273.103 L2033.61 287.756 L2029.33 287.756 L2029.33 261.83 L2033.61 261.83 L2033.61 265.858 Q2035.14 263.52 2037.2 262.362 Q2039.29 261.205 2041.99 261.205 Q2046.46 261.205 2048.75 263.983 Q2051.05 266.737 2051.05 272.108 Z\" fill=\"#000000\" fill-rule=\"evenodd\" fill-opacity=\"1\" /><path clip-path=\"url(#clip550)\" d=\"M2059.1 277.524 L2059.1 261.83 L2063.36 261.83 L2063.36 277.362 Q2063.36 281.043 2064.8 282.895 Q2066.23 284.723 2069.1 284.723 Q2072.55 284.723 2074.54 282.524 Q2076.55 280.325 2076.55 276.529 L2076.55 261.83 L2080.81 261.83 L2080.81 287.756 L2076.55 287.756 L2076.55 283.774 Q2075 286.135 2072.94 287.293 Q2070.91 288.427 2068.2 288.427 Q2063.73 288.427 2061.42 285.649 Q2059.1 282.871 2059.1 277.524 M2069.82 261.205 L2069.82 261.205 Z\" fill=\"#000000\" fill-rule=\"evenodd\" fill-opacity=\"1\" /><path clip-path=\"url(#clip550)\" d=\"M2109.77 266.807 Q2111.37 263.936 2113.59 262.571 Q2115.81 261.205 2118.82 261.205 Q2122.87 261.205 2125.07 264.052 Q2127.27 266.876 2127.27 272.108 L2127.27 287.756 L2122.99 287.756 L2122.99 272.247 Q2122.99 268.52 2121.67 266.714 Q2120.35 264.909 2117.64 264.909 Q2114.33 264.909 2112.41 267.108 Q2110.49 269.307 2110.49 273.103 L2110.49 287.756 L2106.21 287.756 L2106.21 272.247 Q2106.21 268.497 2104.89 266.714 Q2103.57 264.909 2100.81 264.909 Q2097.55 264.909 2095.63 267.131 Q2093.71 269.33 2093.71 273.103 L2093.71 287.756 L2089.42 287.756 L2089.42 261.83 L2093.71 261.83 L2093.71 265.858 Q2095.17 263.473 2097.2 262.339 Q2099.24 261.205 2102.04 261.205 Q2104.86 261.205 2106.83 262.64 Q2108.82 264.075 2109.77 266.807 Z\" fill=\"#000000\" fill-rule=\"evenodd\" fill-opacity=\"1\" /><path clip-path=\"url(#clip550)\" d=\"M2157.94 273.728 L2157.94 275.811 L2138.36 275.811 Q2138.64 280.209 2141 282.524 Q2143.38 284.816 2147.62 284.816 Q2150.07 284.816 2152.36 284.214 Q2154.68 283.612 2156.95 282.409 L2156.95 286.436 Q2154.66 287.408 2152.25 287.918 Q2149.84 288.427 2147.36 288.427 Q2141.16 288.427 2137.53 284.816 Q2133.92 281.205 2133.92 275.047 Q2133.92 268.682 2137.34 264.955 Q2140.79 261.205 2146.62 261.205 Q2151.86 261.205 2154.89 264.585 Q2157.94 267.941 2157.94 273.728 M2153.68 272.478 Q2153.64 268.983 2151.72 266.899 Q2149.82 264.816 2146.67 264.816 Q2143.11 264.816 2140.95 266.83 Q2138.82 268.844 2138.5 272.501 L2153.68 272.478 Z\" fill=\"#000000\" fill-rule=\"evenodd\" fill-opacity=\"1\" /><path clip-path=\"url(#clip550)\" d=\"M2179.96 265.811 Q2179.24 265.395 2178.38 265.21 Q2177.55 265.001 2176.53 265.001 Q2172.92 265.001 2170.98 267.362 Q2169.05 269.7 2169.05 274.098 L2169.05 287.756 L2164.77 287.756 L2164.77 261.83 L2169.05 261.83 L2169.05 265.858 Q2170.4 263.497 2172.55 262.362 Q2174.7 261.205 2177.78 261.205 Q2178.22 261.205 2178.75 261.274 Q2179.29 261.321 2179.93 261.436 L2179.96 265.811 Z\" fill=\"#000000\" fill-rule=\"evenodd\" fill-opacity=\"1\" /><path clip-path=\"url(#clip550)\" d=\"M2184.42 261.83 L2188.68 261.83 L2188.68 287.756 L2184.42 287.756 L2184.42 261.83 M2184.42 251.737 L2188.68 251.737 L2188.68 257.131 L2184.42 257.131 L2184.42 251.737 Z\" fill=\"#000000\" fill-rule=\"evenodd\" fill-opacity=\"1\" /><path clip-path=\"url(#clip550)\" d=\"M2216.25 262.825 L2216.25 266.807 Q2214.45 265.811 2212.62 265.325 Q2210.81 264.816 2208.96 264.816 Q2204.82 264.816 2202.53 267.455 Q2200.23 270.071 2200.23 274.816 Q2200.23 279.561 2202.53 282.2 Q2204.82 284.816 2208.96 284.816 Q2210.81 284.816 2212.62 284.33 Q2214.45 283.821 2216.25 282.825 L2216.25 286.76 Q2214.47 287.594 2212.55 288.01 Q2210.65 288.427 2208.5 288.427 Q2202.64 288.427 2199.19 284.746 Q2195.74 281.066 2195.74 274.816 Q2195.74 268.473 2199.22 264.839 Q2202.71 261.205 2208.78 261.205 Q2210.74 261.205 2212.62 261.622 Q2214.49 262.015 2216.25 262.825 Z\" fill=\"#000000\" fill-rule=\"evenodd\" fill-opacity=\"1\" /></svg>\n"
      ]
     },
     "execution_count": 16,
     "metadata": {},
     "output_type": "execute_result"
    }
   ],
   "source": [
    "es_num = 0:0.01:0.1\n",
    "symbolic_evaluations = [Float64(true_success_symbolic.subs(e,e_num)) for e_num in es_num]\n",
    "\n",
    "numeric_evaluations = []\n",
    "for epsilon in es_num\n",
    "    n = NoiseOpAll(UnbiasedUncorrelatedNoise(epsilon))\n",
    "    circuit = [n,g1,g2,m,v]\n",
    "    pe_symbolic = petrajectories(initial_state, circuit)\n",
    "    push!(numeric_evaluations, pe_symbolic[true_success_stat])\n",
    "end\n",
    "\n",
    "plot(es_num, symbolic_evaluations, label=\"symbolic\")\n",
    "plot!(es_num, numeric_evaluations, line=false, marker=true, label=\"numeric\")\n",
    "plot!(xlabel=\"ε\", ylabel=\"True Success Rate\", title=\"Numeric vs Symbolic Perturbative Expansion\")"
   ]
  },
  {
   "cell_type": "markdown",
   "metadata": {},
   "source": [
    "## Reproducibility information"
   ]
  },
  {
   "cell_type": "code",
   "execution_count": 17,
   "metadata": {},
   "outputs": [
    {
     "name": "stdout",
     "output_type": "stream",
     "text": [
      "Julia Version 1.9.0-DEV.573\n",
      "Commit 35aaf68470 (2022-05-13 09:54 UTC)\n",
      "Platform Info:\n",
      "  OS: Linux (x86_64-pc-linux-gnu)\n",
      "  CPU: 8 × Intel(R) Core(TM) i7-10510U CPU @ 1.80GHz\n",
      "  WORD_SIZE: 64\n",
      "  LIBM: libopenlibm\n",
      "  LLVM: libLLVM-13.0.1 (ORCJIT, skylake)\n",
      "  Threads: 4 on 8 virtual cores\n",
      "Environment:\n",
      "  JULIA_NUM_THREADS = 4\n",
      "\u001b[32m\u001b[1mStatus\u001b[22m\u001b[39m `~/Documents/ScratchSpace/clifford/Project.toml`\n",
      "  \u001b[90m[0525e862] \u001b[39mQuantumClifford v0.5.0-dev `QuantumClifford`\n",
      "\u001b[32m\u001b[1mStatus\u001b[22m\u001b[39m `~/Documents/ScratchSpace/clifford/Project.toml`\n",
      "  \u001b[90m[0c5d862f] \u001b[39mSymbolics v4.5.1\n",
      "\u001b[32m\u001b[1mStatus\u001b[22m\u001b[39m `~/Documents/ScratchSpace/clifford/Project.toml`\n",
      "\u001b[33m⌅\u001b[39m \u001b[90m[c3fe647b] \u001b[39mAbstractAlgebra v0.25.3\n",
      "\u001b[36m\u001b[1mInfo\u001b[22m\u001b[39m Packages marked with \u001b[33m⌅\u001b[39m have new versions available but cannot be upgraded. To see why use `status --outdated`\n",
      "\u001b[32m\u001b[1mStatus\u001b[22m\u001b[39m `~/Documents/ScratchSpace/clifford/Project.toml`\n",
      "  \u001b[90m[24249f21] \u001b[39mSymPy v1.1.6\n"
     ]
    }
   ],
   "source": [
    "versioninfo()\n",
    "using Pkg\n",
    "Pkg.status(\"QuantumClifford\")\n",
    "Pkg.status(\"Symbolics\")\n",
    "Pkg.status(\"AbstractAlgebra\")\n",
    "Pkg.status(\"SymPy\")"
   ]
  }
 ],
 "metadata": {
  "kernelspec": {
   "display_name": "Julia (4 Threads)",
   "language": "julia",
   "name": "julia"
  },
  "language_info": {
   "file_extension": ".jl",
   "mimetype": "application/julia",
   "name": "julia",
   "version": "1.9.0"
  }
 },
 "nbformat": 4,
 "nbformat_minor": 4
}
