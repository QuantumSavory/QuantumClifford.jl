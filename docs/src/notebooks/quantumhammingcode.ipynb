{
 "cells": [
  {
   "cell_type": "code",
   "execution_count": 7,
   "id": "779eb6c7-d9a8-4015-8cf0-b57f3e744782",
   "metadata": {},
   "outputs": [],
   "source": [
    "using Pkg"
   ]
  },
  {
   "cell_type": "code",
   "execution_count": 8,
   "id": "4ae95dee-f3d1-4090-897e-248aed04b5e8",
   "metadata": {},
   "outputs": [],
   "source": [
    "using QuantumClifford\n",
    "using QuantumClifford.ECC: QHamming, naive_syndrome_circuit, naive_encoding_circuit, parity_checks, code_s, code_n\n",
    "using Quantikz\n"
   ]
  },
  {
   "cell_type": "markdown",
   "id": "db939930-4e6b-4582-b1d7-73509dce985f",
   "metadata": {},
   "source": [
    "# **Quantum Hamming Code aka Gottesman Codes**\n",
    "\n",
    "Infinite Family of [[ 2^r, 2^r-r-2,3]] Gottesman Codes with r>=3 also called Quantum Hamming Codes. They belong to the family of CSS codes CSS constructed with a classical hamming code, [[2^r-1,2^r-1-r,3]] =C sub x = C sub z a.k.a first-ordered punctured Reed-Muller code RM(r-2,r)\n",
    "\n",
    "[1] https://errorcorrectionzoo.org/c/quantum_hamming_css\n",
    "\n",
    "[2] https://arxiv.org/pdf/quant-ph/9604038.pdf"
   ]
  },
  {
   "cell_type": "markdown",
   "id": "0b870a27-0d43-4a2b-b8a1-a13a83fb81b9",
   "metadata": {},
   "source": [
    "### **When r=3**"
   ]
  },
  {
   "cell_type": "code",
   "execution_count": 9,
   "id": "745e5533-0861-4564-a717-cdcbef176126",
   "metadata": {},
   "outputs": [
    {
     "data": {
      "text/plain": [
       "3×8 Matrix{Int64}:\n",
       " 1  0  1  0  1  0  1  0\n",
       " 0  1  1  0  0  1  1  0\n",
       " 0  0  0  1  1  1  1  0"
      ]
     },
     "execution_count": 9,
     "metadata": {},
     "output_type": "execute_result"
    }
   ],
   "source": [
    "code = QHamming(3)\n",
    "H = parity_checks(code)"
   ]
  },
  {
   "cell_type": "markdown",
   "id": "af089959-1c9b-40cf-84fe-b1c5a77ff7bb",
   "metadata": {},
   "source": [
    "### **When r=4**"
   ]
  },
  {
   "cell_type": "code",
   "execution_count": 13,
   "id": "1e6544f4-bf86-4d0b-af6b-817a78e58ffe",
   "metadata": {},
   "outputs": [
    {
     "data": {
      "text/plain": [
       "10×16 Matrix{Int64}:\n",
       " 1  0  1  0  1  0  1  0  1  0  1  0  1  0  1  0\n",
       " 0  1  1  0  0  1  1  0  0  1  1  0  0  1  1  0\n",
       " 0  0  0  1  1  1  1  0  0  0  0  1  1  1  1  0\n",
       " 0  0  0  0  0  0  0  1  1  1  1  1  1  1  1  0\n",
       " 0  0  0  0  0  0  0  0  0  0  0  0  0  0  0  1\n",
       " 0  0  0  0  0  0  0  0  0  0  0  0  0  0  0  0\n",
       " 0  0  0  0  0  0  0  0  0  0  0  0  0  0  0  0\n",
       " 0  0  0  0  0  0  0  0  0  0  0  0  0  0  0  0\n",
       " 0  0  0  0  0  0  0  0  0  0  0  0  0  0  0  0\n",
       " 0  0  0  0  0  0  0  0  0  0  0  0  0  0  0  0"
      ]
     },
     "execution_count": 13,
     "metadata": {},
     "output_type": "execute_result"
    }
   ],
   "source": [
    "code = QHamming(4)\n",
    "H = parity_checks(code)"
   ]
  },
  {
   "cell_type": "markdown",
   "id": "f5eaf3f7-1b71-4eca-b24b-e3b277da73af",
   "metadata": {},
   "source": [
    "### **When r=5**"
   ]
  },
  {
   "cell_type": "code",
   "execution_count": 14,
   "id": "3158e32b-347f-4141-b1d7-332212a068db",
   "metadata": {},
   "outputs": [
    {
     "data": {
      "text/plain": [
       "25×32 Matrix{Int64}:\n",
       " 1  0  1  0  1  0  1  0  1  0  1  0  1  …  1  0  1  0  1  0  1  0  1  0  1  0\n",
       " 0  1  1  0  0  1  1  0  0  1  1  0  0     0  1  1  0  0  1  1  0  0  1  1  0\n",
       " 0  0  0  1  1  1  1  0  0  0  0  1  1     1  1  1  0  0  0  0  1  1  1  1  0\n",
       " 0  0  0  0  0  0  0  1  1  1  1  1  1     0  0  0  1  1  1  1  1  1  1  1  0\n",
       " 0  0  0  0  0  0  0  0  0  0  0  0  0     1  1  1  1  1  1  1  1  1  1  1  0\n",
       " 0  0  0  0  0  0  0  0  0  0  0  0  0  …  0  0  0  0  0  0  0  0  0  0  0  1\n",
       " 0  0  0  0  0  0  0  0  0  0  0  0  0     0  0  0  0  0  0  0  0  0  0  0  0\n",
       " 0  0  0  0  0  0  0  0  0  0  0  0  0     0  0  0  0  0  0  0  0  0  0  0  0\n",
       " 0  0  0  0  0  0  0  0  0  0  0  0  0     0  0  0  0  0  0  0  0  0  0  0  0\n",
       " 0  0  0  0  0  0  0  0  0  0  0  0  0     0  0  0  0  0  0  0  0  0  0  0  0\n",
       " 0  0  0  0  0  0  0  0  0  0  0  0  0  …  0  0  0  0  0  0  0  0  0  0  0  0\n",
       " 0  0  0  0  0  0  0  0  0  0  0  0  0     0  0  0  0  0  0  0  0  0  0  0  0\n",
       " 0  0  0  0  0  0  0  0  0  0  0  0  0     0  0  0  0  0  0  0  0  0  0  0  0\n",
       " 0  0  0  0  0  0  0  0  0  0  0  0  0     0  0  0  0  0  0  0  0  0  0  0  0\n",
       " 0  0  0  0  0  0  0  0  0  0  0  0  0     0  0  0  0  0  0  0  0  0  0  0  0\n",
       " 0  0  0  0  0  0  0  0  0  0  0  0  0  …  0  0  0  0  0  0  0  0  0  0  0  0\n",
       " 0  0  0  0  0  0  0  0  0  0  0  0  0     0  0  0  0  0  0  0  0  0  0  0  0\n",
       " 0  0  0  0  0  0  0  0  0  0  0  0  0     0  0  0  0  0  0  0  0  0  0  0  0\n",
       " 0  0  0  0  0  0  0  0  0  0  0  0  0     0  0  0  0  0  0  0  0  0  0  0  0\n",
       " 0  0  0  0  0  0  0  0  0  0  0  0  0     0  0  0  0  0  0  0  0  0  0  0  0\n",
       " 0  0  0  0  0  0  0  0  0  0  0  0  0  …  0  0  0  0  0  0  0  0  0  0  0  0\n",
       " 0  0  0  0  0  0  0  0  0  0  0  0  0     0  0  0  0  0  0  0  0  0  0  0  0\n",
       " 0  0  0  0  0  0  0  0  0  0  0  0  0     0  0  0  0  0  0  0  0  0  0  0  0\n",
       " 0  0  0  0  0  0  0  0  0  0  0  0  0     0  0  0  0  0  0  0  0  0  0  0  0\n",
       " 0  0  0  0  0  0  0  0  0  0  0  0  0     0  0  0  0  0  0  0  0  0  0  0  0"
      ]
     },
     "execution_count": 14,
     "metadata": {},
     "output_type": "execute_result"
    }
   ],
   "source": [
    "code = QHamming(5)\n",
    "H = parity_checks(code)"
   ]
  },
  {
   "cell_type": "markdown",
   "id": "1b313647-9e75-4e3f-af9a-3a628856428e",
   "metadata": {},
   "source": [
    "### **When r= 6**"
   ]
  },
  {
   "cell_type": "code",
   "execution_count": 15,
   "id": "50673143-7600-402f-af24-af5ae3692527",
   "metadata": {},
   "outputs": [
    {
     "data": {
      "text/plain": [
       "56×64 Matrix{Int64}:\n",
       " 1  0  1  0  1  0  1  0  1  0  1  0  1  …  1  0  1  0  1  0  1  0  1  0  1  0\n",
       " 0  1  1  0  0  1  1  0  0  1  1  0  0     0  1  1  0  0  1  1  0  0  1  1  0\n",
       " 0  0  0  1  1  1  1  0  0  0  0  1  1     1  1  1  0  0  0  0  1  1  1  1  0\n",
       " 0  0  0  0  0  0  0  1  1  1  1  1  1     0  0  0  1  1  1  1  1  1  1  1  0\n",
       " 0  0  0  0  0  0  0  0  0  0  0  0  0     1  1  1  1  1  1  1  1  1  1  1  0\n",
       " 0  0  0  0  0  0  0  0  0  0  0  0  0  …  1  1  1  1  1  1  1  1  1  1  1  0\n",
       " 0  0  0  0  0  0  0  0  0  0  0  0  0     0  0  0  0  0  0  0  0  0  0  0  1\n",
       " 0  0  0  0  0  0  0  0  0  0  0  0  0     0  0  0  0  0  0  0  0  0  0  0  0\n",
       " 0  0  0  0  0  0  0  0  0  0  0  0  0     0  0  0  0  0  0  0  0  0  0  0  0\n",
       " 0  0  0  0  0  0  0  0  0  0  0  0  0     0  0  0  0  0  0  0  0  0  0  0  0\n",
       " 0  0  0  0  0  0  0  0  0  0  0  0  0  …  0  0  0  0  0  0  0  0  0  0  0  0\n",
       " 0  0  0  0  0  0  0  0  0  0  0  0  0     0  0  0  0  0  0  0  0  0  0  0  0\n",
       " 0  0  0  0  0  0  0  0  0  0  0  0  0     0  0  0  0  0  0  0  0  0  0  0  0\n",
       " ⋮              ⋮              ⋮        ⋱           ⋮              ⋮        \n",
       " 0  0  0  0  0  0  0  0  0  0  0  0  0     0  0  0  0  0  0  0  0  0  0  0  0\n",
       " 0  0  0  0  0  0  0  0  0  0  0  0  0  …  0  0  0  0  0  0  0  0  0  0  0  0\n",
       " 0  0  0  0  0  0  0  0  0  0  0  0  0     0  0  0  0  0  0  0  0  0  0  0  0\n",
       " 0  0  0  0  0  0  0  0  0  0  0  0  0     0  0  0  0  0  0  0  0  0  0  0  0\n",
       " 0  0  0  0  0  0  0  0  0  0  0  0  0     0  0  0  0  0  0  0  0  0  0  0  0\n",
       " 0  0  0  0  0  0  0  0  0  0  0  0  0     0  0  0  0  0  0  0  0  0  0  0  0\n",
       " 0  0  0  0  0  0  0  0  0  0  0  0  0  …  0  0  0  0  0  0  0  0  0  0  0  0\n",
       " 0  0  0  0  0  0  0  0  0  0  0  0  0     0  0  0  0  0  0  0  0  0  0  0  0\n",
       " 0  0  0  0  0  0  0  0  0  0  0  0  0     0  0  0  0  0  0  0  0  0  0  0  0\n",
       " 0  0  0  0  0  0  0  0  0  0  0  0  0     0  0  0  0  0  0  0  0  0  0  0  0\n",
       " 0  0  0  0  0  0  0  0  0  0  0  0  0     0  0  0  0  0  0  0  0  0  0  0  0\n",
       " 0  0  0  0  0  0  0  0  0  0  0  0  0  …  0  0  0  0  0  0  0  0  0  0  0  0"
      ]
     },
     "execution_count": 15,
     "metadata": {},
     "output_type": "execute_result"
    }
   ],
   "source": [
    "code = QHamming(6)\n",
    "H = parity_checks(code)"
   ]
  },
  {
   "cell_type": "markdown",
   "id": "251347ce-7854-409e-9602-8965bef5ed2f",
   "metadata": {},
   "source": [
    "### **When r= 7**"
   ]
  },
  {
   "cell_type": "code",
   "execution_count": 20,
   "id": "d1ae3a85-cb4b-43b7-9f75-63e7fc880b27",
   "metadata": {},
   "outputs": [
    {
     "data": {
      "text/plain": [
       "119×128 Matrix{Int64}:\n",
       " 1  0  1  0  1  0  1  0  1  0  1  0  1  …  1  0  1  0  1  0  1  0  1  0  1  0\n",
       " 0  1  1  0  0  1  1  0  0  1  1  0  0     0  1  1  0  0  1  1  0  0  1  1  0\n",
       " 0  0  0  1  1  1  1  0  0  0  0  1  1     1  1  1  0  0  0  0  1  1  1  1  0\n",
       " 0  0  0  0  0  0  0  1  1  1  1  1  1     0  0  0  1  1  1  1  1  1  1  1  0\n",
       " 0  0  0  0  0  0  0  0  0  0  0  0  0     1  1  1  1  1  1  1  1  1  1  1  0\n",
       " 0  0  0  0  0  0  0  0  0  0  0  0  0  …  1  1  1  1  1  1  1  1  1  1  1  0\n",
       " 0  0  0  0  0  0  0  0  0  0  0  0  0     1  1  1  1  1  1  1  1  1  1  1  0\n",
       " 0  0  0  0  0  0  0  0  0  0  0  0  0     0  0  0  0  0  0  0  0  0  0  0  1\n",
       " 0  0  0  0  0  0  0  0  0  0  0  0  0     0  0  0  0  0  0  0  0  0  0  0  0\n",
       " 0  0  0  0  0  0  0  0  0  0  0  0  0     0  0  0  0  0  0  0  0  0  0  0  0\n",
       " 0  0  0  0  0  0  0  0  0  0  0  0  0  …  0  0  0  0  0  0  0  0  0  0  0  0\n",
       " 0  0  0  0  0  0  0  0  0  0  0  0  0     0  0  0  0  0  0  0  0  0  0  0  0\n",
       " 0  0  0  0  0  0  0  0  0  0  0  0  0     0  0  0  0  0  0  0  0  0  0  0  0\n",
       " ⋮              ⋮              ⋮        ⋱              ⋮              ⋮     \n",
       " 0  0  0  0  0  0  0  0  0  0  0  0  0     0  0  0  0  0  0  0  0  0  0  0  0\n",
       " 0  0  0  0  0  0  0  0  0  0  0  0  0     0  0  0  0  0  0  0  0  0  0  0  0\n",
       " 0  0  0  0  0  0  0  0  0  0  0  0  0     0  0  0  0  0  0  0  0  0  0  0  0\n",
       " 0  0  0  0  0  0  0  0  0  0  0  0  0  …  0  0  0  0  0  0  0  0  0  0  0  0\n",
       " 0  0  0  0  0  0  0  0  0  0  0  0  0     0  0  0  0  0  0  0  0  0  0  0  0\n",
       " 0  0  0  0  0  0  0  0  0  0  0  0  0     0  0  0  0  0  0  0  0  0  0  0  0\n",
       " 0  0  0  0  0  0  0  0  0  0  0  0  0     0  0  0  0  0  0  0  0  0  0  0  0\n",
       " 0  0  0  0  0  0  0  0  0  0  0  0  0     0  0  0  0  0  0  0  0  0  0  0  0\n",
       " 0  0  0  0  0  0  0  0  0  0  0  0  0  …  0  0  0  0  0  0  0  0  0  0  0  0\n",
       " 0  0  0  0  0  0  0  0  0  0  0  0  0     0  0  0  0  0  0  0  0  0  0  0  0\n",
       " 0  0  0  0  0  0  0  0  0  0  0  0  0     0  0  0  0  0  0  0  0  0  0  0  0\n",
       " 0  0  0  0  0  0  0  0  0  0  0  0  0     0  0  0  0  0  0  0  0  0  0  0  0"
      ]
     },
     "execution_count": 20,
     "metadata": {},
     "output_type": "execute_result"
    }
   ],
   "source": [
    "code = QHamming(7)\n",
    "H = parity_checks(code)"
   ]
  },
  {
   "cell_type": "code",
   "execution_count": null,
   "id": "5202f1f4-1777-4013-83e4-539bed057115",
   "metadata": {},
   "outputs": [],
   "source": []
  }
 ],
 "metadata": {
  "kernelspec": {
   "display_name": "Julia 1.10.1",
   "language": "julia",
   "name": "julia-1.10"
  },
  "language_info": {
   "file_extension": ".jl",
   "mimetype": "application/julia",
   "name": "julia",
   "version": "1.10.1"
  }
 },
 "nbformat": 4,
 "nbformat_minor": 5
}
